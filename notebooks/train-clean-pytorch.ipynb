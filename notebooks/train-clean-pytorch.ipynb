{
  "cells": [
    {
      "attachments": {},
      "cell_type": "markdown",
      "metadata": {},
      "source": [
        "# Train a PyTorch Model with `vl_datasets`\n",
        "In this notebook we will walk you through how to train a PyTorch model using the `vl-datasets` package.\n",
        "\n",
        "<!--<badge>--><a href=\"https://colab.research.google.com/github/visual-layer/vl-datasets/blob/refactor-vl-datasets/notebooks/train-clean-pytorch.ipynb\" target=\"_parent\"><img src=\"https://colab.research.google.com/assets/colab-badge.svg\" alt=\"Open In Colab\"/></a><!--</badge>-->"
      ]
    },
    {
      "cell_type": "markdown",
      "metadata": {},
      "source": [
        "## Installation & Setting Up\n",
        "\n",
        "First, we need to install the fastdup and matplotlib libraries. Run the following command in your Jupyter notebook to install them."
      ]
    },
    {
      "attachments": {},
      "cell_type": "markdown",
      "metadata": {},
      "source": [
        "Eventually we will run\n",
        "\n",
        "`!pip install vl-datasets`\n",
        "\n",
        "but for now"
      ]
    },
    {
      "cell_type": "code",
      "execution_count": null,
      "metadata": {},
      "outputs": [],
      "source": [
        "!git clone https://github.com/visual-layer/vl-datasets && cd vl-datasets && pip install -e ."
      ]
    },
    {
      "cell_type": "markdown",
      "metadata": {},
      "source": [
        "## Define the preprocessing transforms\n",
        "We define the preprocessing transforms for the dataset. We have two transforms: `train_transform` and `valid_transform`."
      ]
    },
    {
      "cell_type": "code",
      "execution_count": 1,
      "metadata": {
        "tags": []
      },
      "outputs": [],
      "source": [
        "import torchvision.transforms as transforms\n",
        "\n",
        "train_transform = transforms.Compose(\n",
        "    [\n",
        "        transforms.RandomResizedCrop(224),\n",
        "        transforms.RandomHorizontalFlip(),\n",
        "        transforms.ToTensor(),\n",
        "        transforms.Normalize(mean=[0.485, 0.456, 0.406], std=[0.229, 0.224, 0.225]),\n",
        "    ]\n",
        ")\n",
        "\n",
        "valid_transform = transforms.Compose(\n",
        "    [\n",
        "        transforms.Resize(256),\n",
        "        transforms.CenterCrop(224),\n",
        "        transforms.ToTensor(),\n",
        "        transforms.Normalize(mean=[0.485, 0.456, 0.406], std=[0.229, 0.224, 0.225]),\n",
        "    ]\n",
        ")"
      ]
    },
    {
      "attachments": {},
      "cell_type": "markdown",
      "metadata": {},
      "source": [
        "## Download food-101 Dataset\n",
        "\n",
        "The easiest way to get the clean version of food-101 dataset is to use `vl_dataset` package."
      ]
    },
    {
      "cell_type": "code",
      "execution_count": 2,
      "metadata": {},
      "outputs": [
        {
          "name": "stdout",
          "output_type": "stream",
          "text": [
            "Excluded 407 from the train set\n",
            "Excluded 91 from the test set\n"
          ]
        }
      ],
      "source": [
        "from vl_datasets import CleanFood101\n",
        "\n",
        "train_dataset = CleanFood101('./', download=True, split='train', exclude_csv='food_101_vl-datasets_analysis.csv', transform=train_transform)\n",
        "valid_dataset = CleanFood101('./', download=True, split='test', exclude_csv='food_101_vl-datasets_analysis.csv', transform=train_transform)"
      ]
    },
    {
      "attachments": {},
      "cell_type": "markdown",
      "metadata": {},
      "source": [
        "Upon successful run, you'd have with a `food-101` folder in your local directory.\n",
        "\n",
        "```\n",
        "food-101/\n",
        "\u251c\u2500\u2500 images\n",
        "\u2502   \u251c\u2500\u2500 apple_pie\n",
        "\u2502   \u2502   \u251c\u2500\u2500 0001.jpg\n",
        "\u2502   \u2502   \u2514\u2500\u2500 0002.jpg\n",
        "\u2502   \u251c\u2500\u2500 baby_back_ribs\n",
        "\u2502   \u251c\u2500\u2500 baklava\n",
        "\u2502   \u251c\u2500\u2500 ...\n",
        "\u2502   \u251c\u2500\u2500 ...\n",
        "\u2502   \u251c\u2500\u2500 ...\n",
        "\u2502   \u2514\u2500\u2500 waffles\n",
        "\u251c\u2500\u2500 meta\n",
        "|   \u251c\u2500\u2500 classes.txt\n",
        "\u2502   \u251c\u2500\u2500 labels.txt\n",
        "\u2502   \u251c\u2500\u2500 test.json\n",
        "\u2502   \u251c\u2500\u2500 test.txt\n",
        "\u2502   \u251c\u2500\u2500 train.json\n",
        "\u2502   \u2514\u2500\u2500 train.txt\n",
        "\u251c\u2500\u2500 license_agreement.txt\n",
        "\u2514\u2500\u2500 README.txt\n",
        "```\n"
      ]
    },
    {
      "attachments": {},
      "cell_type": "markdown",
      "metadata": {},
      "source": [
        "If you'd like to download the food-101 manually, you run the following codes to download and extract the folder into your local directory."
      ]
    },
    {
      "cell_type": "code",
      "execution_count": null,
      "metadata": {},
      "outputs": [],
      "source": [
        "!wget http://data.vision.ee.ethz.ch/cvl/food-101.tar.gz\n",
        "!tar -xf food-101.tar.gz"
      ]
    },
    {
      "attachments": {},
      "cell_type": "markdown",
      "metadata": {},
      "source": [
        "Next, load the directory into a `CleanFood101` class."
      ]
    },
    {
      "cell_type": "code",
      "execution_count": null,
      "metadata": {},
      "outputs": [],
      "source": [
        "train_dataset = CleanFood101('./', download=False, split='train', exclude_csv='food_101_vl-datasets_analysis.csv', transform=train_transform)\n",
        "valid_dataset = CleanFood101('./', download=False, split='test', exclude_csv='food_101_vl-datasets_analysis.csv', transform=train_transform)"
      ]
    },
    {
      "attachments": {},
      "cell_type": "markdown",
      "metadata": {},
      "source": [
        "View the problematic images that are listed in the `.csv` file."
      ]
    },
    {
      "cell_type": "code",
      "execution_count": 3,
      "metadata": {
        "tags": []
      },
      "outputs": [
        {
          "data": {
            "text/plain": [
              "['churros/1440917.jpg',\n",
              " 'churros/1944265.jpg',\n",
              " 'churros/3867252.jpg',\n",
              " 'churros/644700.jpg',\n",
              " 'hot_and_sour_soup/1674538.jpg',\n",
              " 'hot_and_sour_soup/3918910.jpg',\n",
              " 'samosa/1727503.jpg',\n",
              " 'samosa/2754961.jpg',\n",
              " 'samosa/43271.jpg',\n",
              " 'samosa/529285.jpg',\n",
              " 'samosa/652074.jpg',\n",
              " 'samosa/918899.jpg',\n",
              " 'samosa/987023.jpg',\n",
              " 'sashimi/182979.jpg',\n",
              " 'sashimi/2160399.jpg',\n",
              " 'sashimi/241368.jpg',\n",
              " 'spring_rolls/1745022.jpg',\n",
              " 'spring_rolls/182658.jpg',\n",
              " 'spring_rolls/3149523.jpg',\n",
              " 'spring_rolls/3627865.jpg',\n",
              " 'spring_rolls/406134.jpg',\n",
              " 'panna_cotta/1112624.jpg',\n",
              " 'panna_cotta/2058134.jpg',\n",
              " 'panna_cotta/2469457.jpg',\n",
              " 'panna_cotta/273835.jpg',\n",
              " 'panna_cotta/2824744.jpg',\n",
              " 'panna_cotta/3011399.jpg',\n",
              " 'panna_cotta/3405936.jpg',\n",
              " 'panna_cotta/3421628.jpg',\n",
              " 'panna_cotta/379475.jpg',\n",
              " 'beef_tartare/2559298.jpg',\n",
              " 'beef_tartare/3646367.jpg',\n",
              " 'beef_tartare/3722200.jpg',\n",
              " 'beef_tartare/97478.jpg',\n",
              " 'greek_salad/3272361.jpg',\n",
              " 'greek_salad/3733994.jpg',\n",
              " 'foie_gras/2005450.jpg',\n",
              " 'foie_gras/21278.jpg',\n",
              " 'foie_gras/2203130.jpg',\n",
              " 'foie_gras/235773.jpg',\n",
              " 'foie_gras/2857159.jpg',\n",
              " 'foie_gras/2870358.jpg',\n",
              " 'foie_gras/3105826.jpg',\n",
              " 'foie_gras/79314.jpg',\n",
              " 'tacos/1007867.jpg',\n",
              " 'tacos/1091159.jpg',\n",
              " 'tacos/1505262.jpg',\n",
              " 'tacos/264641.jpg',\n",
              " 'pad_thai/2614597.jpg',\n",
              " 'ramen/1222396.jpg',\n",
              " 'ramen/1496711.jpg',\n",
              " 'pulled_pork_sandwich/2044699.jpg',\n",
              " 'pulled_pork_sandwich/3318245.jpg',\n",
              " 'pulled_pork_sandwich/555512.jpg',\n",
              " 'pulled_pork_sandwich/55653.jpg',\n",
              " 'bibimbap/1229620.jpg',\n",
              " 'bibimbap/1792799.jpg',\n",
              " 'bibimbap/2399561.jpg',\n",
              " 'bibimbap/3230839.jpg',\n",
              " 'beignets/1320580.jpg',\n",
              " 'beignets/2004832.jpg',\n",
              " 'beignets/2706264.jpg',\n",
              " 'beignets/3506219.jpg',\n",
              " 'beignets/726875.jpg',\n",
              " 'apple_pie/1487150.jpg',\n",
              " 'apple_pie/236966.jpg',\n",
              " 'apple_pie/3324492.jpg',\n",
              " 'apple_pie/3670966.jpg',\n",
              " 'apple_pie/3915887.jpg',\n",
              " 'apple_pie/471995.jpg',\n",
              " 'apple_pie/839845.jpg',\n",
              " 'crab_cakes/1460400.jpg',\n",
              " 'crab_cakes/20845.jpg',\n",
              " 'crab_cakes/2194081.jpg',\n",
              " 'crab_cakes/2780623.jpg',\n",
              " 'crab_cakes/2780626.jpg',\n",
              " 'crab_cakes/3472601.jpg',\n",
              " 'crab_cakes/3694057.jpg',\n",
              " 'risotto/303964.jpg',\n",
              " 'paella/1554094.jpg',\n",
              " 'paella/2041885.jpg',\n",
              " 'paella/2843371.jpg',\n",
              " 'paella/3468319.jpg',\n",
              " 'paella/575389.jpg',\n",
              " 'steak/2788759.jpg',\n",
              " 'baby_back_ribs/2306066.jpg',\n",
              " 'baby_back_ribs/3265047.jpg',\n",
              " 'miso_soup/1079103.jpg',\n",
              " 'miso_soup/1432503.jpg',\n",
              " 'miso_soup/2757717.jpg',\n",
              " 'miso_soup/3119410.jpg',\n",
              " 'miso_soup/3215987.jpg',\n",
              " 'miso_soup/437828.jpg',\n",
              " 'miso_soup/552422.jpg',\n",
              " 'miso_soup/581842.jpg',\n",
              " 'miso_soup/881247.jpg',\n",
              " 'miso_soup/939178.jpg',\n",
              " 'frozen_yogurt/23272.jpg',\n",
              " 'frozen_yogurt/3480831.jpg',\n",
              " 'frozen_yogurt/3736509.jpg',\n",
              " 'frozen_yogurt/630576.jpg',\n",
              " 'club_sandwich/1377451.jpg',\n",
              " 'club_sandwich/493666.jpg',\n",
              " 'carrot_cake/1204376.jpg',\n",
              " 'carrot_cake/345630.jpg',\n",
              " 'carrot_cake/3512754.jpg',\n",
              " 'falafel/1206667.jpg',\n",
              " 'falafel/295629.jpg',\n",
              " 'falafel/3882357.jpg',\n",
              " 'bread_pudding/1191029.jpg',\n",
              " 'bread_pudding/1375816.jpg',\n",
              " 'bread_pudding/275562.jpg',\n",
              " 'bread_pudding/3076539.jpg',\n",
              " 'bread_pudding/444890.jpg',\n",
              " 'bread_pudding/612326.jpg',\n",
              " 'bread_pudding/956101.jpg',\n",
              " 'chicken_wings/2053850.jpg',\n",
              " 'chicken_wings/834669.jpg',\n",
              " 'gnocchi/1361375.jpg',\n",
              " 'gnocchi/1554203.jpg',\n",
              " 'gnocchi/1706909.jpg',\n",
              " 'gnocchi/2614187.jpg',\n",
              " 'gnocchi/2624421.jpg',\n",
              " 'gnocchi/3167362.jpg',\n",
              " 'gnocchi/574058.jpg',\n",
              " 'creme_brulee/1365780.jpg',\n",
              " 'creme_brulee/1661605.jpg',\n",
              " 'creme_brulee/198180.jpg',\n",
              " 'creme_brulee/2218031.jpg',\n",
              " 'creme_brulee/3245776.jpg',\n",
              " 'escargots/1637284.jpg',\n",
              " 'escargots/596483.jpg',\n",
              " 'escargots/637187.jpg',\n",
              " 'escargots/637188.jpg',\n",
              " 'escargots/637190.jpg',\n",
              " 'chocolate_cake/1244445.jpg',\n",
              " 'chocolate_cake/1646662.jpg',\n",
              " 'chocolate_cake/1749296.jpg',\n",
              " 'chocolate_cake/2518457.jpg',\n",
              " 'chocolate_cake/3600589.jpg',\n",
              " 'chocolate_cake/462066.jpg',\n",
              " 'chocolate_cake/51717.jpg',\n",
              " 'chocolate_cake/55122.jpg',\n",
              " 'chocolate_cake/577717.jpg',\n",
              " 'tiramisu/3741606.jpg',\n",
              " 'spaghetti_bolognese/2117379.jpg',\n",
              " 'mussels/1026090.jpg',\n",
              " 'mussels/1525733.jpg',\n",
              " 'mussels/3139903.jpg',\n",
              " 'mussels/3238774.jpg',\n",
              " 'scallops/3314913.jpg',\n",
              " 'scallops/921290.jpg',\n",
              " 'baklava/1362313.jpg',\n",
              " 'baklava/1413667.jpg',\n",
              " 'baklava/1553505.jpg',\n",
              " 'baklava/2015716.jpg',\n",
              " 'baklava/2209150.jpg',\n",
              " 'baklava/2727113.jpg',\n",
              " 'baklava/3681797.jpg',\n",
              " 'baklava/3728664.jpg',\n",
              " 'baklava/3877397.jpg',\n",
              " 'baklava/683225.jpg',\n",
              " 'edamame/1969958.jpg',\n",
              " 'edamame/2803276.jpg',\n",
              " 'edamame/2979095.jpg',\n",
              " 'edamame/3028728.jpg',\n",
              " 'edamame/3220955.jpg',\n",
              " 'macaroni_and_cheese/3786594.jpg',\n",
              " 'macaroni_and_cheese/3828240.jpg',\n",
              " 'macaroni_and_cheese/912672.jpg',\n",
              " 'garlic_bread/554469.jpg',\n",
              " 'beet_salad/1324013.jpg',\n",
              " 'beet_salad/1404312.jpg',\n",
              " 'beet_salad/1508566.jpg',\n",
              " 'beet_salad/2710842.jpg',\n",
              " 'beet_salad/2975894.jpg',\n",
              " 'beet_salad/374126.jpg',\n",
              " 'onion_rings/2447676.jpg',\n",
              " 'red_velvet_cake/1279265.jpg',\n",
              " 'red_velvet_cake/2347914.jpg',\n",
              " 'red_velvet_cake/2927318.jpg',\n",
              " 'red_velvet_cake/294701.jpg',\n",
              " 'red_velvet_cake/3641990.jpg',\n",
              " 'red_velvet_cake/765959.jpg',\n",
              " 'grilled_salmon/1574235.jpg',\n",
              " 'grilled_salmon/2684.jpg',\n",
              " 'grilled_salmon/606368.jpg',\n",
              " 'grilled_salmon/793308.jpg',\n",
              " 'grilled_salmon/795787.jpg',\n",
              " 'chicken_curry/2523126.jpg',\n",
              " 'deviled_eggs/1413405.jpg',\n",
              " 'deviled_eggs/1619934.jpg',\n",
              " 'deviled_eggs/172858.jpg',\n",
              " 'deviled_eggs/2671994.jpg',\n",
              " 'deviled_eggs/3281495.jpg',\n",
              " 'deviled_eggs/584369.jpg',\n",
              " 'caesar_salad/1019118.jpg',\n",
              " 'hummus/1785054.jpg',\n",
              " 'hummus/3065799.jpg',\n",
              " 'hummus/3102377.jpg',\n",
              " 'hummus/3707400.jpg',\n",
              " 'hummus/584629.jpg',\n",
              " 'hummus/622847.jpg',\n",
              " 'fish_and_chips/3471132.jpg',\n",
              " 'fish_and_chips/818864.jpg',\n",
              " 'fish_and_chips/981299.jpg',\n",
              " 'lasagna/1675979.jpg',\n",
              " 'lasagna/1737120.jpg',\n",
              " 'lasagna/2399575.jpg',\n",
              " 'lasagna/3787908.jpg',\n",
              " 'peking_duck/3852210.jpg',\n",
              " 'peking_duck/388951.jpg',\n",
              " 'peking_duck/721432.jpg',\n",
              " 'guacamole/485942.jpg',\n",
              " 'strawberry_shortcake/113509.jpg',\n",
              " 'strawberry_shortcake/2164444.jpg',\n",
              " 'strawberry_shortcake/2793734.jpg',\n",
              " 'strawberry_shortcake/3363461.jpg',\n",
              " 'strawberry_shortcake/39804.jpg',\n",
              " 'strawberry_shortcake/619928.jpg',\n",
              " 'strawberry_shortcake/724604.jpg',\n",
              " 'clam_chowder/1000678.jpg',\n",
              " 'clam_chowder/1472641.jpg',\n",
              " 'clam_chowder/149643.jpg',\n",
              " 'clam_chowder/1624715.jpg',\n",
              " 'clam_chowder/1730633.jpg',\n",
              " 'clam_chowder/2250407.jpg',\n",
              " 'clam_chowder/2279705.jpg',\n",
              " 'clam_chowder/2385341.jpg',\n",
              " 'clam_chowder/2706952.jpg',\n",
              " 'clam_chowder/3118063.jpg',\n",
              " 'clam_chowder/908590.jpg',\n",
              " 'croque_madame/1306940.jpg',\n",
              " 'croque_madame/2962203.jpg',\n",
              " 'croque_madame/3414159.jpg',\n",
              " 'croque_madame/580678.jpg',\n",
              " 'croque_madame/878201.jpg',\n",
              " 'french_onion_soup/1741875.jpg',\n",
              " 'french_onion_soup/3523026.jpg',\n",
              " 'french_onion_soup/379507.jpg',\n",
              " 'beef_carpaccio/2290534.jpg',\n",
              " 'beef_carpaccio/453819.jpg',\n",
              " 'beef_carpaccio/679379.jpg',\n",
              " 'fried_rice/217612.jpg',\n",
              " 'fried_rice/3781735.jpg',\n",
              " 'donuts/1469810.jpg',\n",
              " 'donuts/1954438.jpg',\n",
              " 'donuts/2117632.jpg',\n",
              " 'donuts/242282.jpg',\n",
              " 'donuts/2499239.jpg',\n",
              " 'donuts/2512789.jpg',\n",
              " 'donuts/3280241.jpg',\n",
              " 'donuts/794976.jpg',\n",
              " 'gyoza/1753888.jpg',\n",
              " 'gyoza/2712704.jpg',\n",
              " 'ravioli/2793794.jpg',\n",
              " 'ravioli/584114.jpg',\n",
              " 'fried_calamari/1995530.jpg',\n",
              " 'fried_calamari/2931636.jpg',\n",
              " 'fried_calamari/440673.jpg',\n",
              " 'fried_calamari/881518.jpg',\n",
              " 'fried_calamari/95861.jpg',\n",
              " 'spaghetti_carbonara/2192677.jpg',\n",
              " 'spaghetti_carbonara/3302076.jpg',\n",
              " 'spaghetti_carbonara/3552167.jpg',\n",
              " 'spaghetti_carbonara/501296.jpg',\n",
              " 'french_toast/1040076.jpg',\n",
              " 'french_toast/3688678.jpg',\n",
              " 'lobster_bisque/1445336.jpg',\n",
              " 'lobster_bisque/1463747.jpg',\n",
              " 'lobster_bisque/1481054.jpg',\n",
              " 'lobster_bisque/1702181.jpg',\n",
              " 'lobster_bisque/197569.jpg',\n",
              " 'lobster_bisque/2051827.jpg',\n",
              " 'lobster_bisque/2826205.jpg',\n",
              " 'lobster_bisque/3355351.jpg',\n",
              " 'lobster_bisque/3371498.jpg',\n",
              " 'lobster_bisque/353321.jpg',\n",
              " 'lobster_bisque/3581131.jpg',\n",
              " 'lobster_bisque/688344.jpg',\n",
              " 'ceviche/172529.jpg',\n",
              " 'ceviche/2363511.jpg',\n",
              " 'ceviche/2523261.jpg',\n",
              " 'bruschetta/1883187.jpg',\n",
              " 'bruschetta/2942349.jpg',\n",
              " 'french_fries/1257345.jpg',\n",
              " 'french_fries/1348209.jpg',\n",
              " 'french_fries/172042.jpg',\n",
              " 'french_fries/660608.jpg',\n",
              " 'shrimp_and_grits/1047420.jpg',\n",
              " 'shrimp_and_grits/306215.jpg',\n",
              " 'filet_mignon/3030737.jpg',\n",
              " 'filet_mignon/488076.jpg',\n",
              " 'filet_mignon/646511.jpg',\n",
              " 'hamburger/1608876.jpg',\n",
              " 'hamburger/2214528.jpg',\n",
              " 'hamburger/3783650.jpg',\n",
              " 'dumplings/124911.jpg',\n",
              " 'dumplings/1552205.jpg',\n",
              " 'dumplings/180290.jpg',\n",
              " 'dumplings/1872410.jpg',\n",
              " 'dumplings/1906501.jpg',\n",
              " 'dumplings/2825570.jpg',\n",
              " 'tuna_tartare/2940010.jpg',\n",
              " 'tuna_tartare/3524553.jpg',\n",
              " 'sushi/1033302.jpg',\n",
              " 'sushi/1073711.jpg',\n",
              " 'sushi/1930318.jpg',\n",
              " 'sushi/3100962.jpg',\n",
              " 'cheese_plate/1070985.jpg',\n",
              " 'cheese_plate/1285113.jpg',\n",
              " 'cheese_plate/3026695.jpg',\n",
              " 'cheese_plate/3119696.jpg',\n",
              " 'eggs_benedict/1830519.jpg',\n",
              " 'eggs_benedict/2748311.jpg',\n",
              " 'cup_cakes/1005580.jpg',\n",
              " 'cup_cakes/112438.jpg',\n",
              " 'cup_cakes/2219167.jpg',\n",
              " 'cup_cakes/2590269.jpg',\n",
              " 'cup_cakes/451074.jpg',\n",
              " 'cup_cakes/63497.jpg',\n",
              " 'takoyaki/537390.jpg',\n",
              " 'chocolate_mousse/1653769.jpg',\n",
              " 'chocolate_mousse/1734966.jpg',\n",
              " 'chocolate_mousse/2177988.jpg',\n",
              " 'chocolate_mousse/2616372.jpg',\n",
              " 'chocolate_mousse/343137.jpg',\n",
              " 'chocolate_mousse/766461.jpg',\n",
              " 'breakfast_burrito/2182358.jpg',\n",
              " 'breakfast_burrito/2428601.jpg',\n",
              " 'breakfast_burrito/2845140.jpg',\n",
              " 'breakfast_burrito/462294.jpg',\n",
              " 'breakfast_burrito/662423.jpg',\n",
              " 'breakfast_burrito/805595.jpg',\n",
              " 'hot_dog/1051643.jpg',\n",
              " 'hot_dog/1282229.jpg',\n",
              " 'hot_dog/3050169.jpg',\n",
              " 'hot_dog/3222202.jpg',\n",
              " 'hot_dog/3336331.jpg',\n",
              " 'hot_dog/3497633.jpg',\n",
              " 'hot_dog/607289.jpg',\n",
              " 'macarons/1627847.jpg',\n",
              " 'macarons/1671595.jpg',\n",
              " 'macarons/2117640.jpg',\n",
              " 'macarons/2250703.jpg',\n",
              " 'macarons/2552948.jpg',\n",
              " 'macarons/2591602.jpg',\n",
              " 'macarons/2742302.jpg',\n",
              " 'macarons/3537376.jpg',\n",
              " 'macarons/536991.jpg',\n",
              " 'macarons/548938.jpg',\n",
              " 'macarons/639127.jpg',\n",
              " 'macarons/761324.jpg',\n",
              " 'seaweed_salad/2944779.jpg',\n",
              " 'cannoli/1070382.jpg',\n",
              " 'cannoli/1982944.jpg',\n",
              " 'cannoli/2295498.jpg',\n",
              " 'huevos_rancheros/244771.jpg',\n",
              " 'pizza/2412970.jpg',\n",
              " 'pizza/2693334.jpg',\n",
              " 'pizza/3803596.jpg',\n",
              " 'pizza/670201.jpg',\n",
              " 'chicken_quesadilla/1590716.jpg',\n",
              " 'chicken_quesadilla/1952791.jpg',\n",
              " 'chicken_quesadilla/3779974.jpg',\n",
              " 'chicken_quesadilla/535532.jpg',\n",
              " 'chicken_quesadilla/535546.jpg',\n",
              " 'pho/123824.jpg',\n",
              " 'pho/1512455.jpg',\n",
              " 'pho/1521706.jpg',\n",
              " 'pho/1840846.jpg',\n",
              " 'pho/2399877.jpg',\n",
              " 'pho/556690.jpg',\n",
              " 'pho/651427.jpg',\n",
              " 'prime_rib/125282.jpg',\n",
              " 'prime_rib/1866825.jpg',\n",
              " 'prime_rib/2103627.jpg',\n",
              " 'prime_rib/282995.jpg',\n",
              " 'prime_rib/3275771.jpg',\n",
              " 'prime_rib/335176.jpg',\n",
              " 'prime_rib/478971.jpg',\n",
              " 'prime_rib/587532.jpg',\n",
              " 'prime_rib/680470.jpg',\n",
              " 'prime_rib/92331.jpg',\n",
              " 'cheesecake/2160930.jpg',\n",
              " 'cheesecake/811556.jpg',\n",
              " 'ice_cream/1793992.jpg',\n",
              " 'ice_cream/1837798.jpg',\n",
              " 'ice_cream/2012607.jpg',\n",
              " 'ice_cream/2458209.jpg',\n",
              " 'ice_cream/893681.jpg',\n",
              " 'omelette/1748616.jpg',\n",
              " 'omelette/534879.jpg',\n",
              " 'grilled_cheese_sandwich/1272855.jpg',\n",
              " 'grilled_cheese_sandwich/185843.jpg',\n",
              " 'grilled_cheese_sandwich/193956.jpg',\n",
              " 'grilled_cheese_sandwich/235659.jpg',\n",
              " 'grilled_cheese_sandwich/3141489.jpg',\n",
              " 'grilled_cheese_sandwich/487393.jpg',\n",
              " 'grilled_cheese_sandwich/937104.jpg',\n",
              " 'lobster_roll_sandwich/2500408.jpg',\n",
              " 'lobster_roll_sandwich/314242.jpg',\n",
              " 'lobster_roll_sandwich/342544.jpg',\n",
              " 'nachos/3382395.jpg',\n",
              " 'oysters/1126413.jpg',\n",
              " 'oysters/35376.jpg',\n",
              " 'oysters/933713.jpg']"
            ]
          },
          "execution_count": 3,
          "metadata": {},
          "output_type": "execute_result"
        }
      ],
      "source": [
        "train_dataset.excluded_files"
      ]
    },
    {
      "cell_type": "markdown",
      "metadata": {},
      "source": [
        "## Imports\n",
        "We will use the following libraries in this tutorial. Import them in your Jupyter notebook by running the following commands:"
      ]
    },
    {
      "cell_type": "code",
      "execution_count": 4,
      "metadata": {
        "tags": []
      },
      "outputs": [],
      "source": [
        "import torch\n",
        "import torch.nn as nn\n",
        "import torch.optim as optim\n",
        "from torch.utils.data import DataLoader\n",
        "\n",
        "import torchvision"
      ]
    },
    {
      "cell_type": "markdown",
      "metadata": {},
      "source": [
        "We can also view the exclude files with:"
      ]
    },
    {
      "cell_type": "code",
      "execution_count": 5,
      "metadata": {
        "tags": []
      },
      "outputs": [],
      "source": [
        "train_loader = DataLoader(train_dataset, batch_size=256, shuffle=True, pin_memory=True)\n",
        "valid_loader = DataLoader(valid_dataset, batch_size=256, shuffle=True, pin_memory=True)"
      ]
    },
    {
      "cell_type": "markdown",
      "metadata": {},
      "source": [
        "## Define the model architecture\n",
        "Let's construct a basic convolutional model, Resnet18 from Torchvision."
      ]
    },
    {
      "cell_type": "code",
      "execution_count": 6,
      "metadata": {
        "tags": []
      },
      "outputs": [],
      "source": [
        "model = torchvision.models.resnet18(weights=torchvision.models.ResNet18_Weights.DEFAULT)\n",
        "num_ftrs = model.fc.in_features\n",
        "model.fc = nn.Linear(num_ftrs, len(train_dataset.classes))"
      ]
    },
    {
      "cell_type": "markdown",
      "metadata": {},
      "source": [
        "## Define the loss function and optimizer"
      ]
    },
    {
      "cell_type": "code",
      "execution_count": 7,
      "metadata": {
        "tags": []
      },
      "outputs": [],
      "source": [
        "criterion = nn.CrossEntropyLoss()\n",
        "optimizer = optim.Adam(model.parameters(), lr=0.001)"
      ]
    },
    {
      "cell_type": "markdown",
      "metadata": {},
      "source": [
        "## Train the model\n",
        "Now, let's write a simple training loop to train the model for 10 epochs on a GPU or CPU."
      ]
    },
    {
      "cell_type": "code",
      "execution_count": 8,
      "metadata": {
        "tags": []
      },
      "outputs": [
        {
          "name": "stdout",
          "output_type": "stream",
          "text": [
            "Using device: cuda\n",
            "Epoch 1 - Loss: 2.379048066220041\n",
            "Epoch 2 - Loss: 1.8127260733458956\n",
            "Epoch 3 - Loss: 1.6149899878744352\n",
            "Epoch 4 - Loss: 1.4893368809910144\n",
            "Epoch 5 - Loss: 1.3931683221105802\n"
          ]
        }
      ],
      "source": [
        "num_epochs = 5\n",
        "device = torch.device(\"cuda\" if torch.cuda.is_available() else \"cpu\")\n",
        "print(f\"Using device: {device}\")\n",
        "model.to(device)\n",
        "\n",
        "for epoch in range(num_epochs):\n",
        "    running_loss = 0.0\n",
        "    for i, data in enumerate(train_loader):\n",
        "        inputs, labels = data\n",
        "        inputs, labels = inputs.to(device), labels.to(device)\n",
        "\n",
        "        optimizer.zero_grad()\n",
        "\n",
        "        outputs = model(inputs)\n",
        "        loss = criterion(outputs, labels)\n",
        "        loss.backward()\n",
        "        optimizer.step()\n",
        "\n",
        "        running_loss += loss.item()\n",
        "\n",
        "    print(f\"Epoch {epoch+1} - Loss: {running_loss/len(train_loader)}\")\n"
      ]
    },
    {
      "cell_type": "markdown",
      "metadata": {},
      "source": [
        "## Evaluate the model\n",
        "Finally we evaluate the model on the validation set and prints it's accuracy."
      ]
    },
    {
      "cell_type": "code",
      "execution_count": 9,
      "metadata": {
        "tags": []
      },
      "outputs": [
        {
          "name": "stdout",
          "output_type": "stream",
          "text": [
            "Accuracy: 65.18542072419413\n"
          ]
        }
      ],
      "source": [
        "correct = 0\n",
        "total = 0\n",
        "with torch.no_grad():\n",
        "    for data in valid_loader:\n",
        "        inputs, labels = data\n",
        "        inputs, labels = inputs.to(device), labels.to(device)\n",
        "        outputs = model(inputs)\n",
        "        _, predicted = torch.max(outputs.data, 1)\n",
        "        total += labels.size(0)\n",
        "        correct += (predicted == labels).sum().item()\n",
        "\n",
        "print(f\"Accuracy: {100 * correct / total}\")\n"
      ]
    }
  ],
  "metadata": {
    "kernelspec": {
      "display_name": "Python 3 (ipykernel)",
      "language": "python",
      "name": "python3"
    },
    "language_info": {
      "codemirror_mode": {
        "name": "ipython",
        "version": 3
      },
      "file_extension": ".py",
      "mimetype": "text/x-python",
      "name": "python",
      "nbconvert_exporter": "python",
      "pygments_lexer": "ipython3",
      "version": "3.10.11"
    }
  },
  "nbformat": 4,
  "nbformat_minor": 4
}