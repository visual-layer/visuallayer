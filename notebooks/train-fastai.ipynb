{
 "cells": [
  {
   "cell_type": "markdown",
   "metadata": {},
   "source": [
    "# Train with fastai\n",
    "This Jupyter notebook uses [fastai](https://github.com/fastai/fastai), a Python library for deep learning, to train a convolutional neural network (CNN) on an image dataset. The notebook loads and preprocesses the image data, then uses a pretrained CNN architecture from the [timm](https://github.com/huggingface/pytorch-image-models) library to fine-tune the model on the dataset. Finally, the trained model is saved for future use.\n",
    "\n",
    "<!--<badge>--><a href=\"https://colab.research.google.com/github/visual-layer/vl-datasets/blob/master/notebooks/train-fastai.ipynb\" target=\"_parent\"><img src=\"https://colab.research.google.com/assets/colab-badge.svg\" alt=\"Open In Colab\"/></a><!--</badge>-->"
   ]
  },
  {
   "cell_type": "markdown",
   "metadata": {},
   "source": [
    "## Installation & Setting Up"
   ]
  },
  {
   "cell_type": "code",
   "execution_count": null,
   "metadata": {
    "tags": []
   },
   "outputs": [],
   "source": [
    "!pip install fastai -Uqq\n",
    "!pip install timm -Uqq\n",
    "!git clone https://github.com/visual-layer/vl-datasets && cd vl-datasets && pip install ."
   ]
  },
  {
   "cell_type": "markdown",
   "metadata": {},
   "source": [
    "## Download foods-101 Dataset\n",
    "Next, we need to download the dataset. For this tutorial, we will use the foods-101 dataset. Run the following commands in your Jupyter notebook to download and extract the dataset:"
   ]
  },
  {
   "cell_type": "code",
   "execution_count": null,
   "metadata": {},
   "outputs": [],
   "source": [
    "!wget http://data.vision.ee.ethz.ch/cvl/food-101.tar.gz\n",
    "!tar -xf food-101.tar.gz"
   ]
  },
  {
   "cell_type": "markdown",
   "metadata": {},
   "source": [
    "## Structuring Data\n",
    "\n",
    "Let's take the above folder structure and turn it into a structure we can readily use with Torchvision.\n",
    "We will reorganize the above into the following folder structure:\n",
    "\n",
    "```\n",
    "food-101/\n",
    "├── train\n",
    "│   ├── apple_pie\n",
    "│   │   ├── 0001.jpg\n",
    "│   │   └── 0002.jpg\n",
    "│   ├── baby_back_ribs\n",
    "│   ├── baklava\n",
    "│   ├── ...\n",
    "│   ├── ...\n",
    "│   ├── ...\n",
    "│   └── waffles\n",
    "├── test\n",
    "│   ├── apple_pie\n",
    "│   │   ├── 01000.jpg\n",
    "│   │   └── 01001.jpg\n",
    "│   ├── baby_back_ribs\n",
    "│   ├── baklava\n",
    "│   ├── ...\n",
    "│   ├── ...\n",
    "│   ├── ...\n",
    "│   └── waffles\n",
    "├── meta\n",
    "|   ├── classes.txt\n",
    "│   ├── labels.txt\n",
    "│   ├── test.json\n",
    "│   ├── test.txt\n",
    "│   ├── train.json\n",
    "│   └── train.txt\n",
    "├── license_agreement.txt\n",
    "└── README.txt\n",
    "\n",
    "```\n",
    "\n",
    "In order to do that let's run the following code."
   ]
  },
  {
   "cell_type": "code",
   "execution_count": null,
   "metadata": {},
   "outputs": [],
   "source": [
    "import shutil\n",
    "import collections\n",
    "from collections import defaultdict\n",
    "import os\n",
    "\n",
    "class_to_ix = {}\n",
    "ix_to_class = {}\n",
    "with open('food-101/meta/classes.txt', 'r') as txt:\n",
    "    classes = [l.strip() for l in txt.readlines()]\n",
    "    class_to_ix = dict(zip(classes, range(len(classes))))\n",
    "    ix_to_class = dict(zip(range(len(classes)), classes))\n",
    "    class_to_ix = {v: k for k, v in ix_to_class.items()}\n",
    "sorted_class_to_ix = collections.OrderedDict(sorted(class_to_ix.items()))\n",
    "\n",
    "# Only split files if haven't already\n",
    "if not os.path.isdir('./food-101/test') and not os.path.isdir('./food-101/train'):\n",
    "\n",
    "    def copytree(src, dst, symlinks = False, ignore = None):\n",
    "        if not os.path.exists(dst):\n",
    "            os.makedirs(dst)\n",
    "            shutil.copystat(src, dst)\n",
    "        lst = os.listdir(src)\n",
    "        if ignore:\n",
    "            excl = ignore(src, lst)\n",
    "            lst = [x for x in lst if x not in excl]\n",
    "        for item in lst:\n",
    "            s = os.path.join(src, item)\n",
    "            d = os.path.join(dst, item)\n",
    "            if symlinks and os.path.islink(s):\n",
    "                if os.path.lexists(d):\n",
    "                    os.remove(d)\n",
    "                os.symlink(os.readlink(s), d)\n",
    "                try:\n",
    "                    st = os.lstat(s)\n",
    "                    mode = stat.S_IMODE(st.st_mode)\n",
    "                    os.lchmod(d, mode)\n",
    "                except:\n",
    "                    pass # lchmod not available\n",
    "            elif os.path.isdir(s):\n",
    "                copytree(s, d, symlinks, ignore)\n",
    "            else:\n",
    "                shutil.copy2(s, d)\n",
    "\n",
    "    def generate_dir_file_map(path):\n",
    "        dir_files = defaultdict(list)\n",
    "        with open(path, 'r') as txt:\n",
    "            files = [l.strip() for l in txt.readlines()]\n",
    "            for f in files:\n",
    "                dir_name, id = f.split('/')\n",
    "                dir_files[dir_name].append(id + '.jpg')\n",
    "        return dir_files\n",
    "\n",
    "    train_dir_files = generate_dir_file_map('food-101/meta/train.txt')\n",
    "    test_dir_files = generate_dir_file_map('food-101/meta/test.txt')\n",
    "\n",
    "\n",
    "    def ignore_train(d, filenames):\n",
    "        print(d)\n",
    "        subdir = d.split('/')[-1]\n",
    "        to_ignore = train_dir_files[subdir]\n",
    "        return to_ignore\n",
    "\n",
    "    def ignore_test(d, filenames):\n",
    "        print(d)\n",
    "        subdir = d.split('/')[-1]\n",
    "        to_ignore = test_dir_files[subdir]\n",
    "        return to_ignore\n",
    "\n",
    "    copytree('food-101/images', 'food-101/test', ignore=ignore_train)\n",
    "    copytree('food-101/images', 'food-101/train', ignore=ignore_test)\n",
    "    \n",
    "else:\n",
    "    print('Train/Test files already copied into separate folders.')"
   ]
  },
  {
   "attachments": {},
   "cell_type": "markdown",
   "metadata": {},
   "source": [
    "## Load Dataset"
   ]
  },
  {
   "cell_type": "code",
   "execution_count": 1,
   "metadata": {},
   "outputs": [],
   "source": [
    "import torchvision.transforms as transforms\n",
    "\n",
    "train_transform = transforms.Compose(\n",
    "    [\n",
    "        transforms.RandomResizedCrop(224),\n",
    "        transforms.RandomHorizontalFlip(),\n",
    "        transforms.ToTensor(),\n",
    "        transforms.Normalize(mean=[0.485, 0.456, 0.406], std=[0.229, 0.224, 0.225]),\n",
    "    ]\n",
    ")\n",
    "\n",
    "valid_transform = transforms.Compose(\n",
    "    [\n",
    "        transforms.Resize(256),\n",
    "        transforms.CenterCrop(224),\n",
    "        transforms.ToTensor(),\n",
    "        transforms.Normalize(mean=[0.485, 0.456, 0.406], std=[0.229, 0.224, 0.225]),\n",
    "    ]\n",
    ")"
   ]
  },
  {
   "cell_type": "code",
   "execution_count": null,
   "metadata": {},
   "outputs": [],
   "source": [
    "from vl_datasets import FilteredDataset"
   ]
  },
  {
   "cell_type": "code",
   "execution_count": 2,
   "metadata": {},
   "outputs": [
    {
     "name": "stdout",
     "output_type": "stream",
     "text": [
      "Original Samples: 75750 in food-101/train\n",
      "Excluded: 498 in food-101/train\n",
      "Cleaned Samples: 75343 in food-101/train\n",
      "Original Samples: 25250 in food-101/test\n",
      "Excluded: 498 in food-101/test\n",
      "Cleaned Samples: 25159 in food-101/test\n"
     ]
    }
   ],
   "source": [
    "train_dataset = FilteredDataset(\"food-101/train\", \"food_101_vl-datasets_analysis.csv\", transform=train_transform)\n",
    "valid_dataset = FilteredDataset(\"food-101/test\", \"food_101_vl-datasets_analysis.csv\", transform=train_transform)"
   ]
  },
  {
   "cell_type": "code",
   "execution_count": 3,
   "metadata": {},
   "outputs": [
    {
     "data": {
      "text/html": [
       "<div>\n",
       "<style scoped>\n",
       "    .dataframe tbody tr th:only-of-type {\n",
       "        vertical-align: middle;\n",
       "    }\n",
       "\n",
       "    .dataframe tbody tr th {\n",
       "        vertical-align: top;\n",
       "    }\n",
       "\n",
       "    .dataframe thead th {\n",
       "        text-align: right;\n",
       "    }\n",
       "</style>\n",
       "<table border=\"1\" class=\"dataframe\">\n",
       "  <thead>\n",
       "    <tr style=\"text-align: right;\">\n",
       "      <th></th>\n",
       "      <th>filename</th>\n",
       "      <th>reason</th>\n",
       "      <th>value</th>\n",
       "      <th>prototype</th>\n",
       "    </tr>\n",
       "  </thead>\n",
       "  <tbody>\n",
       "    <tr>\n",
       "      <th>0</th>\n",
       "      <td>food-101/train/apple_pie/1487150.jpg</td>\n",
       "      <td>Duplicate</td>\n",
       "      <td>0.9662</td>\n",
       "      <td>apple_pie/1486972.jpg</td>\n",
       "    </tr>\n",
       "    <tr>\n",
       "      <th>1</th>\n",
       "      <td>food-101/train/apple_pie/3324492.jpg</td>\n",
       "      <td>Duplicate</td>\n",
       "      <td>0.9817</td>\n",
       "      <td>apple_pie/2106005.jpg</td>\n",
       "    </tr>\n",
       "    <tr>\n",
       "      <th>2</th>\n",
       "      <td>food-101/train/apple_pie/3670966.jpg</td>\n",
       "      <td>Duplicate</td>\n",
       "      <td>0.9879</td>\n",
       "      <td>apple_pie/3670548.jpg</td>\n",
       "    </tr>\n",
       "    <tr>\n",
       "      <th>3</th>\n",
       "      <td>food-101/train/apple_pie/839845.jpg</td>\n",
       "      <td>Duplicate</td>\n",
       "      <td>0.9964</td>\n",
       "      <td>apple_pie/839808.jpg</td>\n",
       "    </tr>\n",
       "    <tr>\n",
       "      <th>4</th>\n",
       "      <td>food-101/train/baby_back_ribs/2306066.jpg</td>\n",
       "      <td>Duplicate</td>\n",
       "      <td>0.9862</td>\n",
       "      <td>baby_back_ribs/2306008.jpg</td>\n",
       "    </tr>\n",
       "    <tr>\n",
       "      <th>...</th>\n",
       "      <td>...</td>\n",
       "      <td>...</td>\n",
       "      <td>...</td>\n",
       "      <td>...</td>\n",
       "    </tr>\n",
       "    <tr>\n",
       "      <th>508</th>\n",
       "      <td>food-101/train/sashimi/241368.jpg</td>\n",
       "      <td>Dark</td>\n",
       "      <td>15.7813</td>\n",
       "      <td>NaN</td>\n",
       "    </tr>\n",
       "    <tr>\n",
       "      <th>509</th>\n",
       "      <td>food-101/train/scallops/3314913.jpg</td>\n",
       "      <td>Dark</td>\n",
       "      <td>13.7173</td>\n",
       "      <td>NaN</td>\n",
       "    </tr>\n",
       "    <tr>\n",
       "      <th>510</th>\n",
       "      <td>food-101/train/spring_rolls/182658.jpg</td>\n",
       "      <td>Dark</td>\n",
       "      <td>8.9502</td>\n",
       "      <td>NaN</td>\n",
       "    </tr>\n",
       "    <tr>\n",
       "      <th>511</th>\n",
       "      <td>food-101/train/bread_pudding/444890.jpg</td>\n",
       "      <td>File-Size</td>\n",
       "      <td>9715.0000</td>\n",
       "      <td>NaN</td>\n",
       "    </tr>\n",
       "    <tr>\n",
       "      <th>512</th>\n",
       "      <td>food-101/train/breakfast_burrito/462294.jpg</td>\n",
       "      <td>File-Size</td>\n",
       "      <td>8693.0000</td>\n",
       "      <td>NaN</td>\n",
       "    </tr>\n",
       "  </tbody>\n",
       "</table>\n",
       "<p>513 rows × 4 columns</p>\n",
       "</div>"
      ],
      "text/plain": [
       "                                        filename     reason      value   \n",
       "0           food-101/train/apple_pie/1487150.jpg  Duplicate     0.9662  \\\n",
       "1           food-101/train/apple_pie/3324492.jpg  Duplicate     0.9817   \n",
       "2           food-101/train/apple_pie/3670966.jpg  Duplicate     0.9879   \n",
       "3            food-101/train/apple_pie/839845.jpg  Duplicate     0.9964   \n",
       "4      food-101/train/baby_back_ribs/2306066.jpg  Duplicate     0.9862   \n",
       "..                                           ...        ...        ...   \n",
       "508            food-101/train/sashimi/241368.jpg       Dark    15.7813   \n",
       "509          food-101/train/scallops/3314913.jpg       Dark    13.7173   \n",
       "510       food-101/train/spring_rolls/182658.jpg       Dark     8.9502   \n",
       "511      food-101/train/bread_pudding/444890.jpg  File-Size  9715.0000   \n",
       "512  food-101/train/breakfast_burrito/462294.jpg  File-Size  8693.0000   \n",
       "\n",
       "                      prototype  \n",
       "0         apple_pie/1486972.jpg  \n",
       "1         apple_pie/2106005.jpg  \n",
       "2         apple_pie/3670548.jpg  \n",
       "3          apple_pie/839808.jpg  \n",
       "4    baby_back_ribs/2306008.jpg  \n",
       "..                          ...  \n",
       "508                         NaN  \n",
       "509                         NaN  \n",
       "510                         NaN  \n",
       "511                         NaN  \n",
       "512                         NaN  \n",
       "\n",
       "[513 rows x 4 columns]"
      ]
     },
     "execution_count": 3,
     "metadata": {},
     "output_type": "execute_result"
    }
   ],
   "source": [
    "train_dataset.excluded_files"
   ]
  },
  {
   "cell_type": "code",
   "execution_count": 4,
   "metadata": {},
   "outputs": [],
   "source": [
    "from torch.utils.data import DataLoader\n",
    "train_loader = DataLoader(train_dataset, batch_size=256, shuffle=True, pin_memory=True)\n",
    "valid_loader = DataLoader(valid_dataset, batch_size=256, shuffle=True, pin_memory=True)"
   ]
  },
  {
   "attachments": {},
   "cell_type": "markdown",
   "metadata": {},
   "source": [
    "Convert PyTorch `Dataloader` to fastai `Dataloader` class."
   ]
  },
  {
   "cell_type": "code",
   "execution_count": 5,
   "metadata": {},
   "outputs": [],
   "source": [
    "from fastai.data.core import DataLoaders\n",
    "dls = DataLoaders(train_loader, valid_loader)"
   ]
  },
  {
   "cell_type": "markdown",
   "metadata": {},
   "source": [
    "## Import Libraries\n",
    "\n",
    "The `fastai.vision.all` module contains all the classes and functions for computer vision tasks in the fastai library, while the timm library provides a collection of state-of-the-art CNN architectures for image classification."
   ]
  },
  {
   "cell_type": "code",
   "execution_count": null,
   "metadata": {},
   "outputs": [],
   "source": [
    "from fastai.vision.all import *"
   ]
  },
  {
   "cell_type": "markdown",
   "metadata": {},
   "source": [
    "## Define and Train the Model\n",
    "\n",
    "The next step is to define and train the CNN model using the Fastai library. The following code defines a vision learner with the convnext_tiny_in22k architecture from the timm library and the accuracy metric.\n",
    "\n",
    "The vision_learner function creates a CNN model with the specified architecture and data, and the metrics argument specifies the evaluation metric to use during training. In this case, the accuracy metric is used to measure the percentage of correctly classified images. The to_fp16 method is used to convert the model to half-precision floating-point format, which reduces memory usage and speeds up training."
   ]
  },
  {
   "cell_type": "code",
   "execution_count": 6,
   "metadata": {},
   "outputs": [],
   "source": [
    "learn = Learner(dls, resnet18(), loss_func=nn.CrossEntropyLoss(),  metrics=accuracy).to_fp16()"
   ]
  },
  {
   "cell_type": "markdown",
   "metadata": {},
   "source": [
    "The next step is to find the optimal learning rate for training the model using the following code:"
   ]
  },
  {
   "cell_type": "code",
   "execution_count": 7,
   "metadata": {
    "tags": []
   },
   "outputs": [
    {
     "data": {
      "text/html": [
       "\n",
       "<style>\n",
       "    /* Turns off some styling */\n",
       "    progress {\n",
       "        /* gets rid of default border in Firefox and Opera. */\n",
       "        border: none;\n",
       "        /* Needs to be in here for Safari polyfill so background images work as expected. */\n",
       "        background-size: auto;\n",
       "    }\n",
       "    progress:not([value]), progress:not([value])::-webkit-progress-bar {\n",
       "        background: repeating-linear-gradient(45deg, #7e7e7e, #7e7e7e 10px, #5c5c5c 10px, #5c5c5c 20px);\n",
       "    }\n",
       "    .progress-bar-interrupted, .progress-bar-interrupted::-webkit-progress-bar {\n",
       "        background: #F44336;\n",
       "    }\n",
       "</style>\n"
      ],
      "text/plain": [
       "<IPython.core.display.HTML object>"
      ]
     },
     "metadata": {},
     "output_type": "display_data"
    },
    {
     "data": {
      "text/html": [],
      "text/plain": [
       "<IPython.core.display.HTML object>"
      ]
     },
     "metadata": {},
     "output_type": "display_data"
    },
    {
     "data": {
      "text/plain": [
       "SuggestedLRs(valley=0.001737800776027143)"
      ]
     },
     "execution_count": 7,
     "metadata": {},
     "output_type": "execute_result"
    },
    {
     "data": {
      "image/png": "[encoded data removed]",
      "text/plain": [
       "<Figure size 640x480 with 1 Axes>"
      ]
     },
     "metadata": {},
     "output_type": "display_data"
    }
   ],
   "source": [
    "learn.lr_find()"
   ]
  },
  {
   "cell_type": "markdown",
   "metadata": {},
   "source": [
    "This function finds the learning rate that results in the steepest decrease in the loss function during training, which is a good starting point for fine-tuning the model.\n",
    "\n",
    "Finally, the following code is used to fine-tune the model on the dataset for 5 epochs with a learning rate of 1e-3 and a ShowGraphCallback to plot the training and validation loss over time:\n",
    "\n"
   ]
  },
  {
   "cell_type": "code",
   "execution_count": 8,
   "metadata": {
    "tags": []
   },
   "outputs": [
    {
     "data": {
      "text/html": [
       "\n",
       "<style>\n",
       "    /* Turns off some styling */\n",
       "    progress {\n",
       "        /* gets rid of default border in Firefox and Opera. */\n",
       "        border: none;\n",
       "        /* Needs to be in here for Safari polyfill so background images work as expected. */\n",
       "        background-size: auto;\n",
       "    }\n",
       "    progress:not([value]), progress:not([value])::-webkit-progress-bar {\n",
       "        background: repeating-linear-gradient(45deg, #7e7e7e, #7e7e7e 10px, #5c5c5c 10px, #5c5c5c 20px);\n",
       "    }\n",
       "    .progress-bar-interrupted, .progress-bar-interrupted::-webkit-progress-bar {\n",
       "        background: #F44336;\n",
       "    }\n",
       "</style>\n"
      ],
      "text/plain": [
       "<IPython.core.display.HTML object>"
      ]
     },
     "metadata": {},
     "output_type": "display_data"
    },
    {
     "data": {
      "text/html": [
       "<table border=\"1\" class=\"dataframe\">\n",
       "  <thead>\n",
       "    <tr style=\"text-align: left;\">\n",
       "      <th>epoch</th>\n",
       "      <th>train_loss</th>\n",
       "      <th>valid_loss</th>\n",
       "      <th>accuracy</th>\n",
       "      <th>time</th>\n",
       "    </tr>\n",
       "  </thead>\n",
       "  <tbody>\n",
       "    <tr>\n",
       "      <td>0</td>\n",
       "      <td>4.032237</td>\n",
       "      <td>4.073100</td>\n",
       "      <td>0.088597</td>\n",
       "      <td>05:44</td>\n",
       "    </tr>\n",
       "  </tbody>\n",
       "</table>"
      ],
      "text/plain": [
       "<IPython.core.display.HTML object>"
      ]
     },
     "metadata": {},
     "output_type": "display_data"
    },
    {
     "data": {
      "image/png": "[encoded data removed]",
      "text/plain": [
       "<Figure size 600x400 with 1 Axes>"
      ]
     },
     "metadata": {},
     "output_type": "display_data"
    },
    {
     "data": {
      "text/html": [
       "\n",
       "<style>\n",
       "    /* Turns off some styling */\n",
       "    progress {\n",
       "        /* gets rid of default border in Firefox and Opera. */\n",
       "        border: none;\n",
       "        /* Needs to be in here for Safari polyfill so background images work as expected. */\n",
       "        background-size: auto;\n",
       "    }\n",
       "    progress:not([value]), progress:not([value])::-webkit-progress-bar {\n",
       "        background: repeating-linear-gradient(45deg, #7e7e7e, #7e7e7e 10px, #5c5c5c 10px, #5c5c5c 20px);\n",
       "    }\n",
       "    .progress-bar-interrupted, .progress-bar-interrupted::-webkit-progress-bar {\n",
       "        background: #F44336;\n",
       "    }\n",
       "</style>\n"
      ],
      "text/plain": [
       "<IPython.core.display.HTML object>"
      ]
     },
     "metadata": {},
     "output_type": "display_data"
    },
    {
     "data": {
      "text/html": [
       "<table border=\"1\" class=\"dataframe\">\n",
       "  <thead>\n",
       "    <tr style=\"text-align: left;\">\n",
       "      <th>epoch</th>\n",
       "      <th>train_loss</th>\n",
       "      <th>valid_loss</th>\n",
       "      <th>accuracy</th>\n",
       "      <th>time</th>\n",
       "    </tr>\n",
       "  </thead>\n",
       "  <tbody>\n",
       "    <tr>\n",
       "      <td>0</td>\n",
       "      <td>3.493984</td>\n",
       "      <td>3.550112</td>\n",
       "      <td>0.178783</td>\n",
       "      <td>05:31</td>\n",
       "    </tr>\n",
       "    <tr>\n",
       "      <td>1</td>\n",
       "      <td>3.217358</td>\n",
       "      <td>3.378192</td>\n",
       "      <td>0.205453</td>\n",
       "      <td>05:24</td>\n",
       "    </tr>\n",
       "    <tr>\n",
       "      <td>2</td>\n",
       "      <td>2.852798</td>\n",
       "      <td>2.910805</td>\n",
       "      <td>0.292023</td>\n",
       "      <td>05:17</td>\n",
       "    </tr>\n",
       "    <tr>\n",
       "      <td>3</td>\n",
       "      <td>2.558197</td>\n",
       "      <td>2.402851</td>\n",
       "      <td>0.403196</td>\n",
       "      <td>04:57</td>\n",
       "    </tr>\n",
       "    <tr>\n",
       "      <td>4</td>\n",
       "      <td>2.385514</td>\n",
       "      <td>2.249424</td>\n",
       "      <td>0.444771</td>\n",
       "      <td>04:51</td>\n",
       "    </tr>\n",
       "  </tbody>\n",
       "</table>"
      ],
      "text/plain": [
       "<IPython.core.display.HTML object>"
      ]
     },
     "metadata": {},
     "output_type": "display_data"
    },
    {
     "data": {
      "image/png": "[encoded data removed]",
      "text/plain": [
       "<Figure size 600x400 with 1 Axes>"
      ]
     },
     "metadata": {},
     "output_type": "display_data"
    }
   ],
   "source": [
    "learn.fine_tune(5, base_lr=1e-3, cbs=[ShowGraphCallback()])"
   ]
  },
  {
   "cell_type": "markdown",
   "metadata": {},
   "source": [
    "The fine_tune method is used to fine-tune the model on the dataset for the specified number of epochs, and the base_lr argument specifies the learning rate to use for the final layers of the model. The ShowGraphCallback is a custom callback that plots the training and validation loss over time.\n",
    "\n"
   ]
  },
  {
   "cell_type": "markdown",
   "metadata": {},
   "source": [
    "## Evaluate Results\n",
    "Once of the ways to learn about the performance of your model is to evaluate it on the validation set. For classification tasks it's easy to use confusion matrix to gauge the model performance."
   ]
  },
  {
   "cell_type": "code",
   "execution_count": 59,
   "metadata": {
    "tags": []
   },
   "outputs": [],
   "source": [
    "# interp = ClassificationInterpretation.from_learner(learn)\n",
    "# interp.plot_confusion_matrix(figsize=(5,5), dpi=60)"
   ]
  },
  {
   "cell_type": "markdown",
   "metadata": {},
   "source": [
    "## Export the Trained Model\n",
    "\n",
    "The export method is used to save the model to a file with the specified path and name. This trained model can be loaded later for inference or further fine-tuning."
   ]
  },
  {
   "cell_type": "code",
   "execution_count": 61,
   "metadata": {
    "tags": []
   },
   "outputs": [],
   "source": [
    "# learn.export(\"./models/learner.pkl\")"
   ]
  },
  {
   "cell_type": "markdown",
   "metadata": {},
   "source": [
    "That's it! This notebook shows how to train a CNN model using the Fastai library with a pretrained architecture from the timm library. By following the steps in this notebook, you can easily train your own CNN models on image datasets using fastai.\n",
    "\n",
    "\n",
    "\n"
   ]
  }
 ],
 "metadata": {
  "kernelspec": {
   "display_name": "Python 3 (ipykernel)",
   "language": "python",
   "name": "python3"
  },
  "language_info": {
   "codemirror_mode": {
    "name": "ipython",
    "version": 3
   },
   "file_extension": ".py",
   "mimetype": "text/x-python",
   "name": "python",
   "nbconvert_exporter": "python",
   "pygments_lexer": "ipython3",
   "version": "3.10.11"
  }
 },
 "nbformat": 4,
 "nbformat_minor": 4
}
