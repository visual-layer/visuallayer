{
 "cells": [
  {
   "cell_type": "markdown",
   "id": "a2fce0bf-2638-434d-8500-1f8b10bddaed",
   "metadata": {},
   "source": [
    "# Tensorflow Datasets\n",
    "{{ badge }}"
   ]
  },
  {
   "cell_type": "code",
   "execution_count": null,
   "id": "ff13bb4b-9665-4401-a097-ed3dcc2156fd",
   "metadata": {},
   "outputs": [],
   "source": [
    "!pip install -q tfds-nightly tensorflow matplotlib"
   ]
  },
  {
   "cell_type": "code",
   "execution_count": null,
   "id": "9aba59eb-ba54-42fb-8f8e-c8fc72ce1285",
   "metadata": {},
   "outputs": [],
   "source": [
    "import matplotlib.pyplot as plt\n",
    "import numpy as np\n",
    "import tensorflow as tf\n",
    "\n",
    "import tensorflow_datasets as tfds"
   ]
  }
 ],
 "metadata": {
  "kernelspec": {
   "display_name": "Python 3 (ipykernel)",
   "language": "python",
   "name": "python3"
  },
  "language_info": {
   "codemirror_mode": {
    "name": "ipython",
    "version": 3
   },
   "file_extension": ".py",
   "mimetype": "text/x-python",
   "name": "python",
   "nbconvert_exporter": "python",
   "pygments_lexer": "ipython3",
   "version": "3.10.9"
  }
 },
 "nbformat": 4,
 "nbformat_minor": 5
}
