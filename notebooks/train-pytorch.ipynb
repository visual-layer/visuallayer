{
  "cells": [
    {
      "cell_type": "markdown",
      "metadata": {},
      "source": [
        "# Using `vl_datasets` with `torchvision` and `torch`\n",
        "This notebook shows how to load clean datasets from `vl-datasets` into [torchvision](https://github.com/pytorch/vision) for training. \n",
        "\n",
        "<!--<badge>--><a href=\"https://colab.research.google.com/github/visual-layer/vl-datasets/blob/main/notebooks/train-pytorch.ipynb\" target=\"_parent\"><img src=\"https://colab.research.google.com/assets/colab-badge.svg\" alt=\"Open In Colab\"/></a><!--</badge>-->"
      ]
    },
    {
      "cell_type": "markdown",
      "metadata": {},
      "source": [
        "## Installation & Setting Up"
      ]
    },
    {
      "cell_type": "code",
      "execution_count": null,
      "metadata": {},
      "outputs": [],
      "source": [
        "!pip install vl-datasets"
      ]
    },
    {
      "cell_type": "markdown",
      "metadata": {},
      "source": [
        "## Define the preprocessing transforms\n",
        "We define the preprocessing transforms for the dataset. We have two transforms: `train_transform` and `valid_transform`."
      ]
    },
    {
      "cell_type": "code",
      "execution_count": 2,
      "metadata": {
        "tags": []
      },
      "outputs": [],
      "source": [
        "import torchvision.transforms as transforms\n",
        "\n",
        "train_transform = transforms.Compose(\n",
        "    [\n",
        "        transforms.RandomResizedCrop(224),\n",
        "        transforms.RandomHorizontalFlip(),\n",
        "        transforms.ToTensor(),\n",
        "        transforms.Normalize(mean=[0.485, 0.456, 0.406], std=[0.229, 0.224, 0.225]),\n",
        "    ]\n",
        ")\n",
        "\n",
        "valid_transform = transforms.Compose(\n",
        "    [\n",
        "        transforms.Resize(256),\n",
        "        transforms.CenterCrop(224),\n",
        "        transforms.ToTensor(),\n",
        "        transforms.Normalize(mean=[0.485, 0.456, 0.406], std=[0.229, 0.224, 0.225]),\n",
        "    ]\n",
        ")"
      ]
    },
    {
      "cell_type": "markdown",
      "metadata": {},
      "source": [
        "## Download food-101 Dataset\n",
        "\n",
        "The easiest way to get the clean version of food-101 dataset is to use `vl_dataset` package."
      ]
    },
    {
      "cell_type": "code",
      "execution_count": 4,
      "metadata": {},
      "outputs": [
        {
          "name": "stdout",
          "output_type": "stream",
          "text": [
            "Using downloaded and verified file: ./food-101.tar.gz\n",
            "Extracting ./food-101.tar.gz to ./\n",
            "Excluded 407 from the train set\n",
            "Excluded 91 from the test set\n"
          ]
        }
      ],
      "source": [
        "from vl_datasets import CleanFood101\n",
        "\n",
        "train_dataset = CleanFood101('./', split='train', exclude_csv='csv_files/food_101_vl-datasets_analysis.csv', transform=train_transform)\n",
        "valid_dataset = CleanFood101('./', split='test', exclude_csv='csv_files/food_101_vl-datasets_analysis.csv', transform=valid_transform)"
      ]
    },
    {
      "cell_type": "markdown",
      "metadata": {},
      "source": [
        "Upon completion, you'd have with a `food-101` folder in your local directory.\n",
        "\n",
        "```\n",
        "food-101/\n",
        "\u251c\u2500\u2500 images\n",
        "\u2502   \u251c\u2500\u2500 apple_pie\n",
        "\u2502   \u2502   \u251c\u2500\u2500 0001.jpg\n",
        "\u2502   \u2502   \u2514\u2500\u2500 0002.jpg\n",
        "\u2502   \u251c\u2500\u2500 baby_back_ribs\n",
        "\u2502   \u251c\u2500\u2500 baklava\n",
        "\u2502   \u251c\u2500\u2500 ...\n",
        "\u2502   \u251c\u2500\u2500 ...\n",
        "\u2502   \u251c\u2500\u2500 ...\n",
        "\u2502   \u2514\u2500\u2500 waffles\n",
        "\u251c\u2500\u2500 meta\n",
        "|   \u251c\u2500\u2500 classes.txt\n",
        "\u2502   \u251c\u2500\u2500 labels.txt\n",
        "\u2502   \u251c\u2500\u2500 test.json\n",
        "\u2502   \u251c\u2500\u2500 test.txt\n",
        "\u2502   \u251c\u2500\u2500 train.json\n",
        "\u2502   \u2514\u2500\u2500 train.txt\n",
        "\u251c\u2500\u2500 license_agreement.txt\n",
        "\u2514\u2500\u2500 README.txt\n",
        "```\n"
      ]
    },
    {
      "cell_type": "markdown",
      "metadata": {},
      "source": [
        "If you'd like to download the food-101 manually, you run the following codes to download and extract the folder into your local directory.\n",
        "\n",
        "```shell\n",
        "wget http://data.vision.ee.ethz.ch/cvl/food-101.tar.gz\n",
        "tar -xf food-101.tar.gz\n",
        "```\n",
        "\n",
        "Next, load the directory into a `CleanFood101` class.\n",
        "\n",
        "```python\n",
        "train_dataset = CleanFood101('./', download=False, split='train', exclude_csv='csv_files/food_101_vl-datasets_analysis.csv', transform=train_transform)\n",
        "valid_dataset = CleanFood101('./', download=False, split='test', exclude_csv='csv_files/food_101_vl-datasets_analysis.csv', transform=train_transform)\n",
        "```"
      ]
    },
    {
      "cell_type": "markdown",
      "metadata": {},
      "source": [
        "View the problematic images that are listed in the `.csv` file."
      ]
    },
    {
      "cell_type": "code",
      "execution_count": 5,
      "metadata": {},
      "outputs": [
        {
          "name": "stdout",
          "output_type": "stream",
          "text": [
            "['churros/1440917.jpg', 'churros/1944265.jpg', 'churros/3867252.jpg', 'churros/644700.jpg', 'hot_and_sour_soup/1674538.jpg']\n"
          ]
        }
      ],
      "source": [
        "print(train_dataset.excluded_files[:5])"
      ]
    },
    {
      "cell_type": "markdown",
      "metadata": {},
      "source": [
        "## Import `torch`"
      ]
    },
    {
      "cell_type": "code",
      "execution_count": 6,
      "metadata": {
        "tags": []
      },
      "outputs": [],
      "source": [
        "import torch\n",
        "import torch.nn as nn\n",
        "import torch.optim as optim\n",
        "from torch.utils.data import DataLoader\n",
        "\n",
        "import torchvision"
      ]
    },
    {
      "cell_type": "markdown",
      "metadata": {},
      "source": [
        "We can also view the exclude files with:"
      ]
    },
    {
      "cell_type": "code",
      "execution_count": 7,
      "metadata": {
        "tags": []
      },
      "outputs": [],
      "source": [
        "train_loader = DataLoader(train_dataset, batch_size=256, shuffle=True, pin_memory=True)\n",
        "valid_loader = DataLoader(valid_dataset, batch_size=256, shuffle=True, pin_memory=True)"
      ]
    },
    {
      "cell_type": "markdown",
      "metadata": {},
      "source": [
        "## Define the model architecture\n",
        "Let's construct a basic convolutional model, Resnet18 from Torchvision."
      ]
    },
    {
      "cell_type": "code",
      "execution_count": 8,
      "metadata": {
        "tags": []
      },
      "outputs": [],
      "source": [
        "model = torchvision.models.resnet18(weights=torchvision.models.ResNet18_Weights.DEFAULT)\n",
        "num_ftrs = model.fc.in_features\n",
        "model.fc = nn.Linear(num_ftrs, len(train_dataset.classes))"
      ]
    },
    {
      "cell_type": "markdown",
      "metadata": {},
      "source": [
        "## Define the loss function and optimizer"
      ]
    },
    {
      "cell_type": "code",
      "execution_count": 9,
      "metadata": {
        "tags": []
      },
      "outputs": [],
      "source": [
        "criterion = nn.CrossEntropyLoss()\n",
        "optimizer = optim.Adam(model.parameters(), lr=0.001)"
      ]
    },
    {
      "cell_type": "markdown",
      "metadata": {},
      "source": [
        "## Train the model\n",
        "Now, let's write a simple training loop to train the model for 10 epochs on a GPU or CPU."
      ]
    },
    {
      "cell_type": "code",
      "execution_count": 10,
      "metadata": {
        "tags": []
      },
      "outputs": [
        {
          "name": "stdout",
          "output_type": "stream",
          "text": [
            "Using device: cuda\n",
            "Epoch 1 - Loss: 2.3851431931479503\n",
            "Epoch 2 - Loss: 1.8027292704178115\n",
            "Epoch 3 - Loss: 1.608138797646862\n",
            "Epoch 4 - Loss: 1.4756208367266896\n",
            "Epoch 5 - Loss: 1.386723577370078\n"
          ]
        }
      ],
      "source": [
        "num_epochs = 5\n",
        "device = torch.device(\"cuda\" if torch.cuda.is_available() else \"cpu\")\n",
        "print(f\"Using device: {device}\")\n",
        "model.to(device)\n",
        "\n",
        "for epoch in range(num_epochs):\n",
        "    running_loss = 0.0\n",
        "    for i, data in enumerate(train_loader):\n",
        "        inputs, labels = data\n",
        "        inputs, labels = inputs.to(device), labels.to(device)\n",
        "\n",
        "        optimizer.zero_grad()\n",
        "\n",
        "        outputs = model(inputs)\n",
        "        loss = criterion(outputs, labels)\n",
        "        loss.backward()\n",
        "        optimizer.step()\n",
        "\n",
        "        running_loss += loss.item()\n",
        "\n",
        "    print(f\"Epoch {epoch+1} - Loss: {running_loss/len(train_loader)}\")\n"
      ]
    },
    {
      "cell_type": "markdown",
      "metadata": {},
      "source": [
        "## Evaluate the model\n",
        "Finally we evaluate the model on the validation set and prints it's accuracy."
      ]
    },
    {
      "cell_type": "code",
      "execution_count": 11,
      "metadata": {
        "tags": []
      },
      "outputs": [
        {
          "name": "stdout",
          "output_type": "stream",
          "text": [
            "Accuracy: 73.34154775627012\n"
          ]
        }
      ],
      "source": [
        "correct = 0\n",
        "total = 0\n",
        "with torch.no_grad():\n",
        "    for data in valid_loader:\n",
        "        inputs, labels = data\n",
        "        inputs, labels = inputs.to(device), labels.to(device)\n",
        "        outputs = model(inputs)\n",
        "        _, predicted = torch.max(outputs.data, 1)\n",
        "        total += labels.size(0)\n",
        "        correct += (predicted == labels).sum().item()\n",
        "\n",
        "print(f\"Accuracy: {100 * correct / total}\")\n"
      ]
    },
    {
      "cell_type": "code",
      "execution_count": null,
      "metadata": {},
      "outputs": [],
      "source": []
    }
  ],
  "metadata": {
    "kernelspec": {
      "display_name": "Python 3 (ipykernel)",
      "language": "python",
      "name": "python3"
    },
    "language_info": {
      "codemirror_mode": {
        "name": "ipython",
        "version": 3
      },
      "file_extension": ".py",
      "mimetype": "text/x-python",
      "name": "python",
      "nbconvert_exporter": "python",
      "pygments_lexer": "ipython3",
      "version": "3.10.11"
    }
  },
  "nbformat": 4,
  "nbformat_minor": 4
}