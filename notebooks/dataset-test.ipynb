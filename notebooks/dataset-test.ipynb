{
 "cells": [
  {
   "cell_type": "code",
   "execution_count": 1,
   "id": "d263908e",
   "metadata": {},
   "outputs": [
    {
     "data": {
      "text/plain": [
       "'0.0.15'"
      ]
     },
     "execution_count": 1,
     "metadata": {},
     "output_type": "execute_result"
    }
   ],
   "source": [
    "import visuallayer as vl\n",
    "\n",
    "vl.__version__"
   ]
  },
  {
   "cell_type": "markdown",
   "id": "13099cb6",
   "metadata": {},
   "source": [
    "## List Academic Datasets"
   ]
  },
  {
   "cell_type": "code",
   "execution_count": null,
   "id": "fdddecd0",
   "metadata": {},
   "outputs": [],
   "source": [
    "vl.datasets.zoo.list_datasets()"
   ]
  },
  {
   "cell_type": "markdown",
   "id": "ae0da249",
   "metadata": {},
   "source": [
    "## Loading a Dataset"
   ]
  },
  {
   "cell_type": "markdown",
   "id": "0e30346f",
   "metadata": {},
   "source": [
    "### Option 1 - Loading from the zoo"
   ]
  },
  {
   "cell_type": "code",
   "execution_count": null,
   "id": "f2c3853a",
   "metadata": {},
   "outputs": [],
   "source": [
    "my_kitti = vl.datasets.zoo.load('vl-kitti')\n",
    "my_kitti.info"
   ]
  },
  {
   "cell_type": "code",
   "execution_count": null,
   "id": "3d7076d3",
   "metadata": {},
   "outputs": [],
   "source": [
    "my_kitti.report"
   ]
  },
  {
   "cell_type": "code",
   "execution_count": null,
   "id": "778b7cce",
   "metadata": {
    "scrolled": false
   },
   "outputs": [],
   "source": [
    "my_kitti.explore()"
   ]
  },
  {
   "cell_type": "code",
   "execution_count": 2,
   "id": "0e67993c",
   "metadata": {},
   "outputs": [
    {
     "name": "stdout",
     "output_type": "stream",
     "text": [
      "Metadata:\n",
      "--> Name - vl-oxford-iiit-pets\n",
      "--> Description - A modified version of the original Oxford IIIT Pets Dataset removing dataset issues.\n",
      "--> License - Creative Commons Attribution-ShareAlike 4.0 International (CC BY-SA 4.0)\n",
      "--> Homepage URL - https://www.robots.ox.ac.uk/~vgg/data/pets/\n",
      "--> Number of Images - 7349\n",
      "--> Number of Images with Issues - 109\n"
     ]
    }
   ],
   "source": [
    "my_pets = vl.datasets.zoo.load('vl-oxford-iiit-pets')\n",
    "my_pets.info"
   ]
  },
  {
   "cell_type": "code",
   "execution_count": null,
   "id": "cfaf33ab",
   "metadata": {},
   "outputs": [],
   "source": [
    "my_food = vl.datasets.zoo.load('vl-food101')\n",
    "my_food.info"
   ]
  },
  {
   "cell_type": "code",
   "execution_count": null,
   "id": "cd61b33c",
   "metadata": {},
   "outputs": [],
   "source": [
    "my_imagenet1k = vl.datasets.zoo.load('vl-imagenet-1k')\n",
    "my_imagenet1k.info"
   ]
  },
  {
   "cell_type": "code",
   "execution_count": null,
   "id": "1c5b4a91",
   "metadata": {},
   "outputs": [],
   "source": [
    "my_imagenet1k.report"
   ]
  },
  {
   "cell_type": "code",
   "execution_count": null,
   "id": "9985fa5b",
   "metadata": {},
   "outputs": [],
   "source": [
    "my_imagenet21k = vl.datasets.zoo.load('vl-imagenet-21k')\n",
    "my_imagenet21k.info"
   ]
  },
  {
   "cell_type": "code",
   "execution_count": null,
   "id": "effe5755",
   "metadata": {},
   "outputs": [],
   "source": [
    "my_imagenet21k.report"
   ]
  },
  {
   "cell_type": "code",
   "execution_count": 3,
   "id": "0bf179e3",
   "metadata": {
    "scrolled": false
   },
   "outputs": [
    {
     "ename": "AttributeError",
     "evalue": "module 'pandas.core.common' has no attribute 'SettingWithCopyWarning'",
     "output_type": "error",
     "traceback": [
      "\u001b[0;31m---------------------------------------------------------------------------\u001b[0m",
      "\u001b[0;31mAttributeError\u001b[0m                            Traceback (most recent call last)",
      "Cell \u001b[0;32mIn[3], line 1\u001b[0m\n\u001b[0;32m----> 1\u001b[0m \u001b[43mmy_pets\u001b[49m\u001b[38;5;241;43m.\u001b[39;49m\u001b[43mexplore\u001b[49m\u001b[43m(\u001b[49m\u001b[43mnum_images\u001b[49m\u001b[38;5;241;43m=\u001b[39;49m\u001b[38;5;241;43m5\u001b[39;49m\u001b[43m)\u001b[49m\n",
      "File \u001b[0;32m/media/dnth/Active-Projects/vl-datasets/visuallayer/datasets/dataset.py:108\u001b[0m, in \u001b[0;36mDataset.explore\u001b[0;34m(self, num_images)\u001b[0m\n\u001b[1;32m    106\u001b[0m \u001b[38;5;28;01mimport\u001b[39;00m \u001b[38;5;21;01mwarnings\u001b[39;00m\n\u001b[1;32m    107\u001b[0m \u001b[38;5;66;03m# Supress pandas warnings\u001b[39;00m\n\u001b[0;32m--> 108\u001b[0m warnings\u001b[38;5;241m.\u001b[39mfilterwarnings(\u001b[38;5;124m\"\u001b[39m\u001b[38;5;124mignore\u001b[39m\u001b[38;5;124m\"\u001b[39m, category\u001b[38;5;241m=\u001b[39m\u001b[43mpd\u001b[49m\u001b[38;5;241;43m.\u001b[39;49m\u001b[43mcore\u001b[49m\u001b[38;5;241;43m.\u001b[39;49m\u001b[43mcommon\u001b[49m\u001b[38;5;241;43m.\u001b[39;49m\u001b[43mSettingWithCopyWarning\u001b[49m)\n\u001b[1;32m    111\u001b[0m \u001b[38;5;66;03m# TODO: Explory by issue type and value\u001b[39;00m\n\u001b[1;32m    113\u001b[0m \u001b[38;5;28mprint\u001b[39m(\u001b[38;5;124m\"\u001b[39m\u001b[38;5;124mFor a more extensive visual exploration of the dataset visit https://app.visual-layer.com/\u001b[39m\u001b[38;5;124m\"\u001b[39m)\n",
      "\u001b[0;31mAttributeError\u001b[0m: module 'pandas.core.common' has no attribute 'SettingWithCopyWarning'"
     ]
    }
   ],
   "source": [
    "my_pets.explore(num_images=5)"
   ]
  },
  {
   "cell_type": "code",
   "execution_count": null,
   "id": "ba3e46f1",
   "metadata": {},
   "outputs": [],
   "source": [
    "# from IPython.core.display import display, HTML\n",
    "# display(HTML(\"<style>.container { width:100% !important; }</style>\"))"
   ]
  },
  {
   "cell_type": "code",
   "execution_count": null,
   "id": "bce49be9",
   "metadata": {},
   "outputs": [],
   "source": [
    "df = my_pets.explore()"
   ]
  },
  {
   "cell_type": "markdown",
   "id": "23fc4b4f",
   "metadata": {},
   "source": [
    "Load original version from the zoo"
   ]
  },
  {
   "cell_type": "code",
   "execution_count": null,
   "id": "08aa2c77",
   "metadata": {},
   "outputs": [],
   "source": [
    "my_pets_ori = vl.datasets.zoo.load('oxford-iiit-pets')"
   ]
  },
  {
   "cell_type": "code",
   "execution_count": null,
   "id": "a1f2c7c9",
   "metadata": {},
   "outputs": [],
   "source": [
    "my_pets_ori.info"
   ]
  },
  {
   "cell_type": "markdown",
   "id": "74e6c013",
   "metadata": {},
   "source": [
    "### Option 2 - Directly Importing the VL Classes"
   ]
  },
  {
   "cell_type": "code",
   "execution_count": null,
   "id": "83d50716",
   "metadata": {},
   "outputs": [],
   "source": [
    "import visuallayer\n",
    "from visuallayer.datasets.zoo import VLOxfordIIITPet, VLCocoDetection\n",
    "\n",
    "vl_pets = VLOxfordIIITPet()"
   ]
  },
  {
   "cell_type": "code",
   "execution_count": null,
   "id": "8773e23a",
   "metadata": {},
   "outputs": [],
   "source": [
    "vl_pets.info"
   ]
  },
  {
   "cell_type": "code",
   "execution_count": null,
   "id": "f056bf6b",
   "metadata": {},
   "outputs": [],
   "source": [
    "vl_coco = VLCocoDetection()"
   ]
  },
  {
   "cell_type": "code",
   "execution_count": null,
   "id": "66483a0c",
   "metadata": {},
   "outputs": [],
   "source": [
    "vl_pets.export(output_format=\"pytorch\", split=\"test\")"
   ]
  },
  {
   "cell_type": "code",
   "execution_count": null,
   "id": "187a0f2b",
   "metadata": {},
   "outputs": [],
   "source": [
    "vl_pets.report"
   ]
  },
  {
   "cell_type": "code",
   "execution_count": null,
   "id": "5c9c5365",
   "metadata": {},
   "outputs": [],
   "source": [
    "test_dataset = vl_pets.export(output_format=\"pytorch\", variation='original', split=\"test\")"
   ]
  },
  {
   "cell_type": "code",
   "execution_count": null,
   "id": "c1d0d7f4",
   "metadata": {},
   "outputs": [],
   "source": [
    "len(test_dataset)"
   ]
  },
  {
   "cell_type": "markdown",
   "id": "3432f590",
   "metadata": {},
   "source": [
    "## Exporting Dataset to PyTorch"
   ]
  },
  {
   "cell_type": "code",
   "execution_count": null,
   "id": "5d9d437e",
   "metadata": {},
   "outputs": [],
   "source": [
    "test_dataset = my_pets.export(output_format=\"pytorch\", split=\"test\")"
   ]
  },
  {
   "cell_type": "code",
   "execution_count": null,
   "id": "090109e2",
   "metadata": {},
   "outputs": [],
   "source": [
    "len(test_dataset)"
   ]
  },
  {
   "cell_type": "code",
   "execution_count": null,
   "id": "498cf8d3",
   "metadata": {},
   "outputs": [],
   "source": [
    "test_dataframe = my_pets.export(output_format=\"csv\", split=\"test\")"
   ]
  },
  {
   "cell_type": "code",
   "execution_count": null,
   "id": "43d2dfd7",
   "metadata": {},
   "outputs": [],
   "source": [
    "test_dataframe"
   ]
  },
  {
   "cell_type": "markdown",
   "id": "ba1cb0d5",
   "metadata": {},
   "source": [
    "## Exporting Issues"
   ]
  },
  {
   "cell_type": "code",
   "execution_count": null,
   "id": "47e11256",
   "metadata": {},
   "outputs": [],
   "source": [
    "vl_pets.export_issues(\"./issues-pets.csv\")"
   ]
  },
  {
   "cell_type": "code",
   "execution_count": null,
   "id": "8d0c757e",
   "metadata": {},
   "outputs": [],
   "source": [
    "# Pending\n",
    "# test_dataset = my_pets.export(output_format=\"csv\", split=\"test\")"
   ]
  }
 ],
 "metadata": {
  "kernelspec": {
   "display_name": "Python 3 (ipykernel)",
   "language": "python",
   "name": "python3"
  },
  "language_info": {
   "codemirror_mode": {
    "name": "ipython",
    "version": 3
   },
   "file_extension": ".py",
   "mimetype": "text/x-python",
   "name": "python",
   "nbconvert_exporter": "python",
   "pygments_lexer": "ipython3",
   "version": "3.10.11"
  }
 },
 "nbformat": 4,
 "nbformat_minor": 5
}
