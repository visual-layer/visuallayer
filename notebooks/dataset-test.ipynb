{
 "cells": [
  {
   "cell_type": "code",
   "execution_count": null,
   "id": "d263908e",
   "metadata": {},
   "outputs": [],
   "source": [
    "import visuallayer as vl"
   ]
  },
  {
   "cell_type": "code",
   "execution_count": null,
   "id": "3c75eed9",
   "metadata": {},
   "outputs": [],
   "source": [
    "vl.__version__"
   ]
  },
  {
   "cell_type": "code",
   "execution_count": null,
   "id": "3e72f62e",
   "metadata": {},
   "outputs": [],
   "source": [
    "from visuallayer.datasets.zoo import VLOxfordIIITPet"
   ]
  },
  {
   "cell_type": "code",
   "execution_count": null,
   "id": "41f021ad",
   "metadata": {},
   "outputs": [],
   "source": [
    "vl_pets = VLOxfordIIITPet()\n",
    "vl_pets.info"
   ]
  },
  {
   "cell_type": "code",
   "execution_count": null,
   "id": "89ef6f27",
   "metadata": {},
   "outputs": [],
   "source": [
    "# vl_pets.report"
   ]
  },
  {
   "cell_type": "code",
   "execution_count": null,
   "id": "2c046ea3",
   "metadata": {},
   "outputs": [],
   "source": [
    "train_dataset = vl_pets.export(\"pytorch\", split=\"trainval\")"
   ]
  },
  {
   "cell_type": "code",
   "execution_count": null,
   "id": "aa5f35a6",
   "metadata": {},
   "outputs": [],
   "source": [
    "val_dataset = vl_pets.export(\"pytorch\", split=\"test\")"
   ]
  },
  {
   "cell_type": "code",
   "execution_count": null,
   "id": "69deb58c",
   "metadata": {},
   "outputs": [],
   "source": [
    "from visuallayer.datasets.zoo import list_datasets"
   ]
  },
  {
   "cell_type": "code",
   "execution_count": null,
   "id": "e7798bdc",
   "metadata": {},
   "outputs": [],
   "source": [
    "list_datasets()"
   ]
  },
  {
   "cell_type": "code",
   "execution_count": null,
   "id": "7a97cb5f",
   "metadata": {},
   "outputs": [],
   "source": [
    "import visuallayer as vl\n",
    "vl.datasets.zoo.list_datasets()"
   ]
  },
  {
   "cell_type": "code",
   "execution_count": null,
   "id": "5f13b67b",
   "metadata": {},
   "outputs": [],
   "source": [
    "vl.list_datasets() # why is this working?"
   ]
  },
  {
   "cell_type": "code",
   "execution_count": null,
   "id": "57a75add",
   "metadata": {},
   "outputs": [],
   "source": [
    "pets = vl.datasets.zoo.load('vl-pets')"
   ]
  },
  {
   "cell_type": "code",
   "execution_count": null,
   "id": "1a4c2dfc",
   "metadata": {},
   "outputs": [],
   "source": [
    "pets = vl.datasets.zoo.load('vl-oxford-iiit-pets')"
   ]
  },
  {
   "cell_type": "code",
   "execution_count": null,
   "id": "5dc97f4a",
   "metadata": {},
   "outputs": [],
   "source": [
    "pets.info"
   ]
  },
  {
   "cell_type": "code",
   "execution_count": null,
   "id": "2bf3fb1b",
   "metadata": {},
   "outputs": [],
   "source": [
    "test_dataset = pets.export(output_format=\"pytorch\", split=\"test\")"
   ]
  },
  {
   "cell_type": "code",
   "execution_count": null,
   "id": "b1e430ca",
   "metadata": {},
   "outputs": [],
   "source": []
  },
  {
   "cell_type": "code",
   "execution_count": null,
   "id": "c6f16fcd",
   "metadata": {},
   "outputs": [],
   "source": [
    "vl_pets = VLOxfordIIITPet()\n",
    "vl_pets.info"
   ]
  },
  {
   "cell_type": "code",
   "execution_count": null,
   "id": "b306efae",
   "metadata": {},
   "outputs": [],
   "source": []
  }
 ],
 "metadata": {
  "kernelspec": {
   "display_name": "Python 3 (ipykernel)",
   "language": "python",
   "name": "python3"
  },
  "language_info": {
   "codemirror_mode": {
    "name": "ipython",
    "version": 3
   },
   "file_extension": ".py",
   "mimetype": "text/x-python",
   "name": "python",
   "nbconvert_exporter": "python",
   "pygments_lexer": "ipython3",
   "version": "3.10.11"
  }
 },
 "nbformat": 4,
 "nbformat_minor": 5
}
