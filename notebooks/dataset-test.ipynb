{
 "cells": [
  {
   "cell_type": "code",
   "execution_count": 1,
   "id": "d263908e",
   "metadata": {},
   "outputs": [
    {
     "data": {
      "text/plain": [
       "'0.0.1'"
      ]
     },
     "execution_count": 1,
     "metadata": {},
     "output_type": "execute_result"
    }
   ],
   "source": [
    "import visuallayer as vl\n",
    "\n",
    "vl.__version__"
   ]
  },
  {
   "cell_type": "markdown",
   "id": "13099cb6",
   "metadata": {},
   "source": [
    "## List Academic Datasets"
   ]
  },
  {
   "cell_type": "code",
   "execution_count": 2,
   "id": "fdddecd0",
   "metadata": {},
   "outputs": [
    {
     "name": "stdout",
     "output_type": "stream",
     "text": [
      "Listing all datasets in zoo.\n"
     ]
    },
    {
     "data": {
      "text/plain": [
       "['vl-oxford-iiit-pets']"
      ]
     },
     "execution_count": 2,
     "metadata": {},
     "output_type": "execute_result"
    }
   ],
   "source": [
    "vl.datasets.zoo.list_datasets()"
   ]
  },
  {
   "cell_type": "markdown",
   "id": "ae0da249",
   "metadata": {},
   "source": [
    "## Loading a Dataset"
   ]
  },
  {
   "cell_type": "markdown",
   "id": "0e30346f",
   "metadata": {},
   "source": [
    "### Option 1 - Loading from the zoo"
   ]
  },
  {
   "cell_type": "code",
   "execution_count": 3,
   "id": "0e67993c",
   "metadata": {},
   "outputs": [],
   "source": [
    "my_pets = vl.datasets.zoo.load('vl-oxford-iiit-pets')"
   ]
  },
  {
   "cell_type": "code",
   "execution_count": 4,
   "id": "cfaf33ab",
   "metadata": {},
   "outputs": [
    {
     "name": "stdout",
     "output_type": "stream",
     "text": [
      "Metadata:\n",
      "--> Name - vl-oxford-iiit-pets\n",
      "--> Description - A modified version of the original Oxford IIIT Pets Dataset removing dataset issues.\n",
      "--> License - Creative Commons Attribution-ShareAlike 4.0 International (CC BY-SA 4.0)\n",
      "--> Homepage URL - https://www.robots.ox.ac.uk/~vgg/data/pets/\n",
      "--> Number of Images - 7349\n",
      "--> Number of Images with Issues - 109\n"
     ]
    }
   ],
   "source": [
    "my_pets.info"
   ]
  },
  {
   "cell_type": "code",
   "execution_count": 5,
   "id": "e6d2831a",
   "metadata": {},
   "outputs": [
    {
     "name": "stdout",
     "output_type": "stream",
     "text": [
      "Visual Layer Profiler issues in this dataset:\n",
      "\n",
      "--> 75 DUPLICATE(S) (1.02%)\n",
      "--> 7 OUTLIER(S) (0.10%)\n",
      "--> 4 DARK(S) (0.05%)\n",
      "--> 23 LEAKAGE(S) (0.63%)\n",
      "\n",
      "These images are removed in the `vl` variant of the dataset. To load the original version of the dataset, use variant=`original`. Explore the full data and the issues head to http://visual-layer.com/datasets/dataset/1234-5678-abcd\n"
     ]
    }
   ],
   "source": [
    "my_pets.report"
   ]
  },
  {
   "cell_type": "markdown",
   "id": "74e6c013",
   "metadata": {},
   "source": [
    "### Option 2 - Directly Importing the VL Classes"
   ]
  },
  {
   "cell_type": "code",
   "execution_count": 6,
   "id": "83d50716",
   "metadata": {},
   "outputs": [],
   "source": [
    "import visuallayer\n",
    "from visuallayer.datasets.zoo import VLOxfordIIITPet\n",
    "\n",
    "vl_pets = VLOxfordIIITPet(variant='original')"
   ]
  },
  {
   "cell_type": "code",
   "execution_count": 7,
   "id": "f963b280",
   "metadata": {},
   "outputs": [
    {
     "data": {
      "text/plain": [
       "'original'"
      ]
     },
     "execution_count": 7,
     "metadata": {},
     "output_type": "execute_result"
    }
   ],
   "source": [
    "vl_pets.variant"
   ]
  },
  {
   "cell_type": "code",
   "execution_count": 8,
   "id": "8773e23a",
   "metadata": {},
   "outputs": [
    {
     "name": "stdout",
     "output_type": "stream",
     "text": [
      "Metadata:\n",
      "--> Name - oxford-iiit-pets\n",
      "--> Description - The original pets dataset by Oxford IIIT.\n",
      "--> License - Creative Commons Attribution-ShareAlike 4.0 International (CC BY-SA 4.0)\n",
      "--> Homepage URL - https://www.robots.ox.ac.uk/~vgg/data/pets/\n",
      "--> Number of Images - 7349\n"
     ]
    }
   ],
   "source": [
    "vl_pets.info"
   ]
  },
  {
   "cell_type": "code",
   "execution_count": 9,
   "id": "187a0f2b",
   "metadata": {},
   "outputs": [
    {
     "name": "stdout",
     "output_type": "stream",
     "text": [
      "Visual Layer Profiler issues in this dataset:\n",
      "\n",
      "--> 75 DUPLICATE(S) (1.02%)\n",
      "--> 7 OUTLIER(S) (0.10%)\n",
      "--> 4 DARK(S) (0.05%)\n",
      "--> 23 LEAKAGE(S) (0.63%)\n",
      "\n",
      "These images are removed in the `vl` variant of the dataset. To load the original version of the dataset, use variant=`original`. Explore the full data and the issues head to http://visual-layer.com/datasets/dataset/1234-5678-abcd\n"
     ]
    }
   ],
   "source": [
    "vl_pets.report"
   ]
  },
  {
   "cell_type": "code",
   "execution_count": 10,
   "id": "bba5ec6e",
   "metadata": {},
   "outputs": [
    {
     "name": "stdout",
     "output_type": "stream",
     "text": [
      "Exporting ORIGINAL dataset into pytorch dataset.\n"
     ]
    }
   ],
   "source": [
    "test_dataset = vl_pets.export(output_format=\"pytorch\", variant='original', split=\"test\")"
   ]
  },
  {
   "cell_type": "code",
   "execution_count": 11,
   "id": "a59843b9",
   "metadata": {},
   "outputs": [
    {
     "data": {
      "text/plain": [
       "3669"
      ]
     },
     "execution_count": 11,
     "metadata": {},
     "output_type": "execute_result"
    }
   ],
   "source": [
    "len(test_dataset)"
   ]
  },
  {
   "cell_type": "markdown",
   "id": "3432f590",
   "metadata": {},
   "source": [
    "## Exporting Dataset to PyTorch"
   ]
  },
  {
   "cell_type": "code",
   "execution_count": 12,
   "id": "5d9d437e",
   "metadata": {},
   "outputs": [
    {
     "name": "stdout",
     "output_type": "stream",
     "text": [
      "Exporting VL dataset into pytorch dataset.\n",
      "Downloading CSV file\n",
      "Excluded Abyssinian_114 from the test set\n",
      "Excluded beagle_142 from the test set\n",
      "Excluded Bengal_105 from the test set\n",
      "Excluded Bengal_131 from the test set\n",
      "Excluded Bombay_132 from the test set\n",
      "Excluded Bombay_139 from the test set\n",
      "Excluded Abyssinian_177 from the test set\n",
      "Excluded Abyssinian_18 from the test set\n",
      "Excluded Bombay_150 from the test set\n",
      "Excluded Bombay_157 from the test set\n",
      "Excluded Bombay_177 from the test set\n",
      "Excluded Bombay_191 from the test set\n",
      "Excluded Bombay_19 from the test set\n",
      "Excluded german_shorthaired_173 from the test set\n",
      "Excluded keeshond_162 from the test set\n",
      "Excluded keeshond_167 from the test set\n",
      "Excluded keeshond_170 from the test set\n",
      "Excluded Ragdoll_161 from the test set\n",
      "Excluded saint_bernard_158 from the test set\n",
      "Excluded yorkshire_terrier_180 from the test set\n",
      "Excluded yorkshire_terrier_182 from the test set\n"
     ]
    }
   ],
   "source": [
    "test_dataset = my_pets.export(output_format=\"pytorch\", split=\"test\")"
   ]
  },
  {
   "cell_type": "code",
   "execution_count": 13,
   "id": "a4125231",
   "metadata": {},
   "outputs": [
    {
     "data": {
      "text/plain": [
       "3659"
      ]
     },
     "execution_count": 13,
     "metadata": {},
     "output_type": "execute_result"
    }
   ],
   "source": [
    "len(test_dataset)"
   ]
  },
  {
   "cell_type": "markdown",
   "id": "e654c279",
   "metadata": {},
   "source": [
    "## Exporting Issues"
   ]
  },
  {
   "cell_type": "code",
   "execution_count": 14,
   "id": "47e11256",
   "metadata": {},
   "outputs": [],
   "source": [
    "vl_pets.export_issues(\"./issues-pets.csv\")"
   ]
  },
  {
   "cell_type": "code",
   "execution_count": null,
   "id": "8d0c757e",
   "metadata": {},
   "outputs": [],
   "source": [
    "# Pending\n",
    "# test_dataset = my_pets.export(output_format=\"csv\", split=\"test\")"
   ]
  }
 ],
 "metadata": {
  "kernelspec": {
   "display_name": "Python 3 (ipykernel)",
   "language": "python",
   "name": "python3"
  },
  "language_info": {
   "codemirror_mode": {
    "name": "ipython",
    "version": 3
   },
   "file_extension": ".py",
   "mimetype": "text/x-python",
   "name": "python",
   "nbconvert_exporter": "python",
   "pygments_lexer": "ipython3",
   "version": "3.10.11"
  }
 },
 "nbformat": 4,
 "nbformat_minor": 5
}
