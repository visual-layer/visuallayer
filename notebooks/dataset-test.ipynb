{
 "cells": [
  {
   "cell_type": "code",
   "execution_count": null,
   "id": "d263908e",
   "metadata": {},
   "outputs": [],
   "source": [
    "import visuallayer as vl"
   ]
  },
  {
   "cell_type": "code",
   "execution_count": null,
   "id": "3c75eed9",
   "metadata": {},
   "outputs": [],
   "source": [
    "vl.__version__"
   ]
  },
  {
   "cell_type": "code",
   "execution_count": null,
   "id": "3e72f62e",
   "metadata": {},
   "outputs": [],
   "source": [
    "from visuallayer.datasets.zoo import VLOxfordIIITPet"
   ]
  },
  {
   "cell_type": "code",
   "execution_count": null,
   "id": "41f021ad",
   "metadata": {},
   "outputs": [],
   "source": [
    "vl_pets = VLOxfordIIITPet()\n",
    "vl_pets.info"
   ]
  },
  {
   "cell_type": "code",
   "execution_count": null,
   "id": "89ef6f27",
   "metadata": {},
   "outputs": [],
   "source": [
    "vl_pets.report"
   ]
  },
  {
   "cell_type": "code",
   "execution_count": null,
   "id": "2c046ea3",
   "metadata": {},
   "outputs": [],
   "source": [
    "train_dataset = vl_pets.export(\"pytorch\", split=\"trainval\")"
   ]
  },
  {
   "cell_type": "code",
   "execution_count": null,
   "id": "aa5f35a6",
   "metadata": {},
   "outputs": [],
   "source": [
    "val_dataset = vl_pets.export(\"pytorch\", split=\"test\")"
   ]
  },
  {
   "cell_type": "code",
   "execution_count": null,
   "id": "69deb58c",
   "metadata": {},
   "outputs": [],
   "source": [
    "from visuallayer.datasets.zoo import list_datasets"
   ]
  },
  {
   "cell_type": "code",
   "execution_count": null,
   "id": "e7798bdc",
   "metadata": {},
   "outputs": [],
   "source": [
    "list_datasets()"
   ]
  },
  {
   "cell_type": "code",
   "execution_count": 1,
   "id": "7a97cb5f",
   "metadata": {},
   "outputs": [
    {
     "name": "stdout",
     "output_type": "stream",
     "text": [
      "Listing all datasets in zoo.\n"
     ]
    },
    {
     "data": {
      "text/plain": [
       "['vl-pets']"
      ]
     },
     "execution_count": 1,
     "metadata": {},
     "output_type": "execute_result"
    }
   ],
   "source": [
    "import visuallayer as vl\n",
    "vl.datasets.zoo.list_datasets()"
   ]
  },
  {
   "cell_type": "code",
   "execution_count": 2,
   "id": "5f13b67b",
   "metadata": {},
   "outputs": [
    {
     "name": "stdout",
     "output_type": "stream",
     "text": [
      "Listing all datasets in zoo.\n"
     ]
    },
    {
     "data": {
      "text/plain": [
       "['vl-pets']"
      ]
     },
     "execution_count": 2,
     "metadata": {},
     "output_type": "execute_result"
    }
   ],
   "source": [
    "vl.list_datasets() # why is this working?"
   ]
  },
  {
   "cell_type": "code",
   "execution_count": null,
   "id": "c92dffaf",
   "metadata": {},
   "outputs": [],
   "source": []
  },
  {
   "cell_type": "code",
   "execution_count": 3,
   "id": "57a75add",
   "metadata": {},
   "outputs": [
    {
     "name": "stdout",
     "output_type": "stream",
     "text": [
      "Loading dataset here\n"
     ]
    }
   ],
   "source": [
    "pets = vl.datasets.zoo.load('Oxford IIIT Pets')"
   ]
  },
  {
   "cell_type": "code",
   "execution_count": 4,
   "id": "5dc97f4a",
   "metadata": {},
   "outputs": [
    {
     "data": {
      "text/plain": [
       "{'name': 'vl-pets',\n",
       " 'description': 'A modified version of the original Oxford IIIT Pets Dataset removing dataset issues.'}"
      ]
     },
     "execution_count": 4,
     "metadata": {},
     "output_type": "execute_result"
    }
   ],
   "source": [
    "pets.info"
   ]
  },
  {
   "cell_type": "code",
   "execution_count": 5,
   "id": "2bf3fb1b",
   "metadata": {},
   "outputs": [
    {
     "name": "stdout",
     "output_type": "stream",
     "text": [
      "Exporting dataset into pytorch\n",
      "Downloading CSV file\n",
      "Excluded Abyssinian_114 from the test set\n",
      "Excluded beagle_142 from the test set\n",
      "Excluded Bengal_105 from the test set\n",
      "Excluded Bengal_131 from the test set\n",
      "Excluded Bombay_132 from the test set\n",
      "Excluded Bombay_139 from the test set\n",
      "Excluded Abyssinian_177 from the test set\n",
      "Excluded Abyssinian_18 from the test set\n",
      "Excluded Bombay_150 from the test set\n",
      "Excluded Bombay_157 from the test set\n",
      "Excluded Bombay_177 from the test set\n",
      "Excluded Bombay_191 from the test set\n",
      "Excluded Bombay_19 from the test set\n",
      "Excluded german_shorthaired_173 from the test set\n",
      "Excluded keeshond_162 from the test set\n",
      "Excluded keeshond_167 from the test set\n",
      "Excluded keeshond_170 from the test set\n",
      "Excluded Ragdoll_161 from the test set\n",
      "Excluded saint_bernard_158 from the test set\n",
      "Excluded yorkshire_terrier_180 from the test set\n",
      "Excluded yorkshire_terrier_182 from the test set\n"
     ]
    }
   ],
   "source": [
    "test_dataset = pets.export(output_format=\"pytorch\", split=\"test\")"
   ]
  },
  {
   "cell_type": "code",
   "execution_count": null,
   "id": "b1e430ca",
   "metadata": {},
   "outputs": [],
   "source": []
  },
  {
   "cell_type": "code",
   "execution_count": null,
   "id": "c6f16fcd",
   "metadata": {},
   "outputs": [],
   "source": [
    "vl_pets = VLOxfordIIITPet()\n",
    "vl_pets.info"
   ]
  },
  {
   "cell_type": "code",
   "execution_count": null,
   "id": "b306efae",
   "metadata": {},
   "outputs": [],
   "source": []
  }
 ],
 "metadata": {
  "kernelspec": {
   "display_name": "Python 3 (ipykernel)",
   "language": "python",
   "name": "python3"
  },
  "language_info": {
   "codemirror_mode": {
    "name": "ipython",
    "version": 3
   },
   "file_extension": ".py",
   "mimetype": "text/x-python",
   "name": "python",
   "nbconvert_exporter": "python",
   "pygments_lexer": "ipython3",
   "version": "3.10.11"
  }
 },
 "nbformat": 4,
 "nbformat_minor": 5
}
