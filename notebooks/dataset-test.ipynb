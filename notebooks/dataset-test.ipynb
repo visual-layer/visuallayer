{
 "cells": [
  {
   "cell_type": "code",
   "execution_count": 1,
   "id": "d263908e",
   "metadata": {},
   "outputs": [],
   "source": [
    "import visuallayer as vl"
   ]
  },
  {
   "cell_type": "code",
   "execution_count": 2,
   "id": "3c75eed9",
   "metadata": {},
   "outputs": [
    {
     "data": {
      "text/plain": [
       "'0.0.1'"
      ]
     },
     "execution_count": 2,
     "metadata": {},
     "output_type": "execute_result"
    }
   ],
   "source": [
    "vl.__version__"
   ]
  },
  {
   "cell_type": "code",
   "execution_count": 3,
   "id": "3e72f62e",
   "metadata": {},
   "outputs": [],
   "source": [
    "from visuallayer.datasets.zoo import VLOxfordIIITPet"
   ]
  },
  {
   "cell_type": "code",
   "execution_count": 4,
   "id": "41f021ad",
   "metadata": {
    "scrolled": false
   },
   "outputs": [
    {
     "name": "stdout",
     "output_type": "stream",
     "text": [
      "Name:vl-oxford-iiit-pets \n",
      "Description: A modified version of the original Oxford IIIT Pets Dataset removing dataset issues. \n",
      "Images: 7349 \n",
      "Images with Issues: 109 (1.48%)\n"
     ]
    }
   ],
   "source": [
    "vl_pets = VLOxfordIIITPet()\n",
    "vl_pets.info"
   ]
  },
  {
   "cell_type": "code",
   "execution_count": 5,
   "id": "89ef6f27",
   "metadata": {},
   "outputs": [
    {
     "name": "stdout",
     "output_type": "stream",
     "text": [
      "Visual Layer Profiler found and removed the following issues from the original dataset and removed them in vl-oxford-iiit-pets\n",
      "\n",
      "75 Duplicate (1.0%)\n",
      "7 Outlier (0.1%)\n",
      "4 dark (0.1%)\n",
      "23 leakage (0.6%)\n",
      "\n",
      "To explore the full data and the issues head to http://visual-layer.com/datasets/dataset/1234-5678-abcd\n"
     ]
    }
   ],
   "source": [
    "vl_pets.report"
   ]
  },
  {
   "cell_type": "code",
   "execution_count": 6,
   "id": "2c046ea3",
   "metadata": {},
   "outputs": [
    {
     "name": "stdout",
     "output_type": "stream",
     "text": [
      "Exporting dataset into pytorch\n",
      "Apply default transform\n",
      "Compose(\n",
      "    RandomResizedCrop(size=(224, 224), scale=(0.08, 1.0), ratio=(0.75, 1.3333), interpolation=bilinear, antialias=warn)\n",
      "    RandomHorizontalFlip(p=0.5)\n",
      "    ToTensor()\n",
      "    Normalize(mean=[0.485, 0.456, 0.406], std=[0.229, 0.224, 0.225])\n",
      ")\n",
      "Downloading CSV file\n",
      "Excluded Abyssinian_114 from the trainval set\n",
      "Excluded beagle_142 from the trainval set\n",
      "Excluded Bengal_105 from the trainval set\n",
      "Excluded Bengal_131 from the trainval set\n",
      "Excluded Bombay_132 from the trainval set\n",
      "Excluded Bombay_139 from the trainval set\n",
      "Excluded Abyssinian_177 from the trainval set\n",
      "Excluded Abyssinian_18 from the trainval set\n",
      "Excluded Bombay_150 from the trainval set\n",
      "Excluded Bombay_157 from the trainval set\n",
      "Excluded Bombay_177 from the trainval set\n",
      "Excluded Bombay_191 from the trainval set\n",
      "Excluded Bombay_19 from the trainval set\n",
      "Excluded german_shorthaired_173 from the trainval set\n",
      "Excluded keeshond_162 from the trainval set\n",
      "Excluded keeshond_167 from the trainval set\n",
      "Excluded keeshond_170 from the trainval set\n",
      "Excluded Ragdoll_161 from the trainval set\n",
      "Excluded saint_bernard_158 from the trainval set\n",
      "Excluded yorkshire_terrier_180 from the trainval set\n",
      "Excluded yorkshire_terrier_182 from the trainval set\n"
     ]
    }
   ],
   "source": [
    "train_dataset = vl_pets.export(\"pytorch\", split=\"trainval\")"
   ]
  },
  {
   "cell_type": "code",
   "execution_count": 7,
   "id": "aa5f35a6",
   "metadata": {},
   "outputs": [
    {
     "name": "stdout",
     "output_type": "stream",
     "text": [
      "Exporting dataset into pytorch\n",
      "Downloading CSV file\n",
      "Excluded Abyssinian_114 from the test set\n",
      "Excluded beagle_142 from the test set\n",
      "Excluded Bengal_105 from the test set\n",
      "Excluded Bengal_131 from the test set\n",
      "Excluded Bombay_132 from the test set\n",
      "Excluded Bombay_139 from the test set\n",
      "Excluded Abyssinian_177 from the test set\n",
      "Excluded Abyssinian_18 from the test set\n",
      "Excluded Bombay_150 from the test set\n",
      "Excluded Bombay_157 from the test set\n",
      "Excluded Bombay_177 from the test set\n",
      "Excluded Bombay_191 from the test set\n",
      "Excluded Bombay_19 from the test set\n",
      "Excluded german_shorthaired_173 from the test set\n",
      "Excluded keeshond_162 from the test set\n",
      "Excluded keeshond_167 from the test set\n",
      "Excluded keeshond_170 from the test set\n",
      "Excluded Ragdoll_161 from the test set\n",
      "Excluded saint_bernard_158 from the test set\n",
      "Excluded yorkshire_terrier_180 from the test set\n",
      "Excluded yorkshire_terrier_182 from the test set\n"
     ]
    }
   ],
   "source": [
    "val_dataset = vl_pets.export(\"pytorch\", split=\"test\")"
   ]
  },
  {
   "cell_type": "code",
   "execution_count": 8,
   "id": "69deb58c",
   "metadata": {},
   "outputs": [],
   "source": [
    "from visuallayer.datasets.zoo import list_datasets"
   ]
  },
  {
   "cell_type": "code",
   "execution_count": 9,
   "id": "e7798bdc",
   "metadata": {},
   "outputs": [
    {
     "name": "stdout",
     "output_type": "stream",
     "text": [
      "Listing all datasets in zoo.\n"
     ]
    },
    {
     "data": {
      "text/plain": [
       "['vl-oxford-iiit-pets']"
      ]
     },
     "execution_count": 9,
     "metadata": {},
     "output_type": "execute_result"
    }
   ],
   "source": [
    "list_datasets()"
   ]
  },
  {
   "cell_type": "code",
   "execution_count": 10,
   "id": "7a97cb5f",
   "metadata": {},
   "outputs": [
    {
     "name": "stdout",
     "output_type": "stream",
     "text": [
      "Listing all datasets in zoo.\n"
     ]
    },
    {
     "data": {
      "text/plain": [
       "['vl-oxford-iiit-pets']"
      ]
     },
     "execution_count": 10,
     "metadata": {},
     "output_type": "execute_result"
    }
   ],
   "source": [
    "import visuallayer as vl\n",
    "vl.datasets.zoo.list_datasets()"
   ]
  },
  {
   "cell_type": "code",
   "execution_count": 11,
   "id": "5f13b67b",
   "metadata": {},
   "outputs": [
    {
     "name": "stdout",
     "output_type": "stream",
     "text": [
      "Listing all datasets in zoo.\n"
     ]
    },
    {
     "data": {
      "text/plain": [
       "['vl-oxford-iiit-pets']"
      ]
     },
     "execution_count": 11,
     "metadata": {},
     "output_type": "execute_result"
    }
   ],
   "source": [
    "vl.list_datasets() # why is this working?"
   ]
  },
  {
   "cell_type": "code",
   "execution_count": 12,
   "id": "57a75add",
   "metadata": {},
   "outputs": [
    {
     "name": "stdout",
     "output_type": "stream",
     "text": [
      "Could not find dataset. Did you mean ['vl-oxford-iiit-pets']?\n"
     ]
    }
   ],
   "source": [
    "pets = vl.datasets.zoo.load('vl-pets')"
   ]
  },
  {
   "cell_type": "code",
   "execution_count": 13,
   "id": "f7439d8e",
   "metadata": {},
   "outputs": [],
   "source": [
    "pets = vl.datasets.zoo.load('vl-oxford-iiit-pets')"
   ]
  },
  {
   "cell_type": "code",
   "execution_count": 14,
   "id": "5dc97f4a",
   "metadata": {},
   "outputs": [
    {
     "name": "stdout",
     "output_type": "stream",
     "text": [
      "Name:vl-oxford-iiit-pets \n",
      "Description: A modified version of the original Oxford IIIT Pets Dataset removing dataset issues. \n",
      "Images: 7349 \n",
      "Images with Issues: 109 (1.48%)\n"
     ]
    }
   ],
   "source": [
    "pets.info"
   ]
  },
  {
   "cell_type": "code",
   "execution_count": 15,
   "id": "2bf3fb1b",
   "metadata": {},
   "outputs": [
    {
     "name": "stdout",
     "output_type": "stream",
     "text": [
      "Exporting dataset into pytorch\n",
      "Downloading CSV file\n",
      "Excluded Abyssinian_114 from the test set\n",
      "Excluded beagle_142 from the test set\n",
      "Excluded Bengal_105 from the test set\n",
      "Excluded Bengal_131 from the test set\n",
      "Excluded Bombay_132 from the test set\n",
      "Excluded Bombay_139 from the test set\n",
      "Excluded Abyssinian_177 from the test set\n",
      "Excluded Abyssinian_18 from the test set\n",
      "Excluded Bombay_150 from the test set\n",
      "Excluded Bombay_157 from the test set\n",
      "Excluded Bombay_177 from the test set\n",
      "Excluded Bombay_191 from the test set\n",
      "Excluded Bombay_19 from the test set\n",
      "Excluded german_shorthaired_173 from the test set\n",
      "Excluded keeshond_162 from the test set\n",
      "Excluded keeshond_167 from the test set\n",
      "Excluded keeshond_170 from the test set\n",
      "Excluded Ragdoll_161 from the test set\n",
      "Excluded saint_bernard_158 from the test set\n",
      "Excluded yorkshire_terrier_180 from the test set\n",
      "Excluded yorkshire_terrier_182 from the test set\n"
     ]
    }
   ],
   "source": [
    "test_dataset = pets.export(output_format=\"pytorch\", split=\"test\")"
   ]
  },
  {
   "cell_type": "code",
   "execution_count": null,
   "id": "b1e430ca",
   "metadata": {},
   "outputs": [],
   "source": []
  },
  {
   "cell_type": "code",
   "execution_count": 16,
   "id": "c6f16fcd",
   "metadata": {},
   "outputs": [
    {
     "name": "stdout",
     "output_type": "stream",
     "text": [
      "Name:vl-oxford-iiit-pets \n",
      "Description: A modified version of the original Oxford IIIT Pets Dataset removing dataset issues. \n",
      "Images: 7349 \n",
      "Images with Issues: 109 (1.48%)\n"
     ]
    }
   ],
   "source": [
    "vl_pets = VLOxfordIIITPet()\n",
    "vl_pets.info"
   ]
  },
  {
   "cell_type": "code",
   "execution_count": null,
   "id": "3b8f7d3a",
   "metadata": {},
   "outputs": [],
   "source": []
  }
 ],
 "metadata": {
  "kernelspec": {
   "display_name": "Python 3 (ipykernel)",
   "language": "python",
   "name": "python3"
  },
  "language_info": {
   "codemirror_mode": {
    "name": "ipython",
    "version": 3
   },
   "file_extension": ".py",
   "mimetype": "text/x-python",
   "name": "python",
   "nbconvert_exporter": "python",
   "pygments_lexer": "ipython3",
   "version": "3.10.11"
  }
 },
 "nbformat": 4,
 "nbformat_minor": 5
}
