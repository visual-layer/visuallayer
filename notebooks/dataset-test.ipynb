{
 "cells": [
  {
   "cell_type": "code",
   "execution_count": null,
   "id": "d263908e",
   "metadata": {},
   "outputs": [],
   "source": [
    "import visuallayer as vl\n",
    "\n",
    "vl.__version__"
   ]
  },
  {
   "cell_type": "markdown",
   "id": "13099cb6",
   "metadata": {},
   "source": [
    "## List Academic Datasets"
   ]
  },
  {
   "cell_type": "code",
   "execution_count": null,
   "id": "fdddecd0",
   "metadata": {},
   "outputs": [],
   "source": [
    "vl.datasets.zoo.list_datasets()"
   ]
  },
  {
   "cell_type": "markdown",
   "id": "ae0da249",
   "metadata": {},
   "source": [
    "## Loading a Dataset"
   ]
  },
  {
   "cell_type": "markdown",
   "id": "0e30346f",
   "metadata": {},
   "source": [
    "### Option 1 - Loading from the zoo"
   ]
  },
  {
   "cell_type": "code",
   "execution_count": null,
   "id": "f2c3853a",
   "metadata": {},
   "outputs": [],
   "source": [
    "my_kitti = vl.datasets.zoo.load('vl-kitti')\n",
    "my_kitti.info"
   ]
  },
  {
   "cell_type": "code",
   "execution_count": null,
   "id": "3d7076d3",
   "metadata": {},
   "outputs": [],
   "source": [
    "my_kitti.report"
   ]
  },
  {
   "cell_type": "code",
   "execution_count": null,
   "id": "778b7cce",
   "metadata": {
    "scrolled": false
   },
   "outputs": [],
   "source": [
    "my_kitti.explore()"
   ]
  },
  {
   "cell_type": "code",
   "execution_count": null,
   "id": "0e67993c",
   "metadata": {},
   "outputs": [],
   "source": [
    "my_pets = vl.datasets.zoo.load('vl-oxford-iiit-pets')\n",
    "my_pets.info"
   ]
  },
  {
   "cell_type": "code",
   "execution_count": null,
   "id": "cfaf33ab",
   "metadata": {},
   "outputs": [],
   "source": [
    "my_food = vl.datasets.zoo.load('vl-food101')\n",
    "my_food.info"
   ]
  },
  {
   "cell_type": "code",
   "execution_count": null,
   "id": "cd61b33c",
   "metadata": {},
   "outputs": [],
   "source": [
    "my_imagenet1k = vl.datasets.zoo.load('vl-imagenet-1k')\n",
    "my_imagenet1k.info"
   ]
  },
  {
   "cell_type": "code",
   "execution_count": null,
   "id": "1c5b4a91",
   "metadata": {},
   "outputs": [],
   "source": [
    "my_imagenet1k.report"
   ]
  },
  {
   "cell_type": "code",
   "execution_count": null,
   "id": "9985fa5b",
   "metadata": {},
   "outputs": [],
   "source": [
    "my_imagenet21k = vl.datasets.zoo.load('vl-imagenet-21k')\n",
    "my_imagenet21k.info"
   ]
  },
  {
   "cell_type": "code",
   "execution_count": null,
   "id": "effe5755",
   "metadata": {},
   "outputs": [],
   "source": [
    "my_imagenet21k.report"
   ]
  },
  {
   "cell_type": "code",
   "execution_count": null,
   "id": "0bf179e3",
   "metadata": {
    "scrolled": false
   },
   "outputs": [],
   "source": [
    "my_pets.explore(num_images=5)"
   ]
  },
  {
   "cell_type": "code",
   "execution_count": null,
   "id": "ba3e46f1",
   "metadata": {},
   "outputs": [],
   "source": [
    "# from IPython.core.display import display, HTML\n",
    "# display(HTML(\"<style>.container { width:100% !important; }</style>\"))"
   ]
  },
  {
   "cell_type": "code",
   "execution_count": null,
   "id": "bce49be9",
   "metadata": {},
   "outputs": [],
   "source": [
    "df = my_pets.explore()"
   ]
  },
  {
   "cell_type": "markdown",
   "id": "23fc4b4f",
   "metadata": {},
   "source": [
    "Load original version from the zoo"
   ]
  },
  {
   "cell_type": "code",
   "execution_count": null,
   "id": "08aa2c77",
   "metadata": {},
   "outputs": [],
   "source": [
    "my_pets_ori = vl.datasets.zoo.load('oxford-iiit-pets')"
   ]
  },
  {
   "cell_type": "code",
   "execution_count": null,
   "id": "a1f2c7c9",
   "metadata": {},
   "outputs": [],
   "source": [
    "my_pets_ori.info"
   ]
  },
  {
   "cell_type": "markdown",
   "id": "74e6c013",
   "metadata": {},
   "source": [
    "### Option 2 - Directly Importing the VL Classes"
   ]
  },
  {
   "cell_type": "code",
   "execution_count": null,
   "id": "83d50716",
   "metadata": {},
   "outputs": [],
   "source": [
    "import visuallayer\n",
    "from visuallayer.datasets.zoo import VLOxfordIIITPet, VLCocoDetection\n",
    "\n",
    "vl_pets = VLOxfordIIITPet()"
   ]
  },
  {
   "cell_type": "code",
   "execution_count": null,
   "id": "8773e23a",
   "metadata": {},
   "outputs": [],
   "source": [
    "vl_pets.info"
   ]
  },
  {
   "cell_type": "code",
   "execution_count": null,
   "id": "f056bf6b",
   "metadata": {},
   "outputs": [],
   "source": [
    "vl_coco = VLCocoDetection()"
   ]
  },
  {
   "cell_type": "code",
   "execution_count": null,
   "id": "66483a0c",
   "metadata": {},
   "outputs": [],
   "source": [
    "vl_pets.export(output_format=\"pytorch\", split=\"test\")"
   ]
  },
  {
   "cell_type": "code",
   "execution_count": null,
   "id": "187a0f2b",
   "metadata": {},
   "outputs": [],
   "source": [
    "vl_pets.report"
   ]
  },
  {
   "cell_type": "code",
   "execution_count": null,
   "id": "5c9c5365",
   "metadata": {},
   "outputs": [],
   "source": [
    "test_dataset = vl_pets.export(output_format=\"pytorch\", variation='original', split=\"test\")"
   ]
  },
  {
   "cell_type": "code",
   "execution_count": null,
   "id": "c1d0d7f4",
   "metadata": {},
   "outputs": [],
   "source": [
    "len(test_dataset)"
   ]
  },
  {
   "cell_type": "markdown",
   "id": "3432f590",
   "metadata": {},
   "source": [
    "## Exporting Dataset to PyTorch"
   ]
  },
  {
   "cell_type": "code",
   "execution_count": null,
   "id": "5d9d437e",
   "metadata": {},
   "outputs": [],
   "source": [
    "test_dataset = my_pets.export(output_format=\"pytorch\", split=\"test\")"
   ]
  },
  {
   "cell_type": "code",
   "execution_count": null,
   "id": "090109e2",
   "metadata": {},
   "outputs": [],
   "source": [
    "len(test_dataset)"
   ]
  },
  {
   "cell_type": "code",
   "execution_count": null,
   "id": "498cf8d3",
   "metadata": {},
   "outputs": [],
   "source": [
    "test_dataframe = my_pets.export(output_format=\"csv\", split=\"test\")"
   ]
  },
  {
   "cell_type": "code",
   "execution_count": null,
   "id": "43d2dfd7",
   "metadata": {},
   "outputs": [],
   "source": [
    "test_dataframe"
   ]
  },
  {
   "cell_type": "markdown",
   "id": "ba1cb0d5",
   "metadata": {},
   "source": [
    "## Exporting Issues"
   ]
  },
  {
   "cell_type": "code",
   "execution_count": null,
   "id": "47e11256",
   "metadata": {},
   "outputs": [],
   "source": [
    "vl_pets.export_issues(\"./issues-pets.csv\")"
   ]
  },
  {
   "cell_type": "code",
   "execution_count": null,
   "id": "8d0c757e",
   "metadata": {},
   "outputs": [],
   "source": [
    "# Pending\n",
    "# test_dataset = my_pets.export(output_format=\"csv\", split=\"test\")"
   ]
  }
 ],
 "metadata": {
  "kernelspec": {
   "display_name": "Python 3 (ipykernel)",
   "language": "python",
   "name": "python3"
  },
  "language_info": {
   "codemirror_mode": {
    "name": "ipython",
    "version": 3
   },
   "file_extension": ".py",
   "mimetype": "text/x-python",
   "name": "python",
   "nbconvert_exporter": "python",
   "pygments_lexer": "ipython3",
   "version": "3.9.16"
  }
 },
 "nbformat": 4,
 "nbformat_minor": 5
}
