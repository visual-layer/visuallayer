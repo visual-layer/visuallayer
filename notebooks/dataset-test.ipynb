{
 "cells": [
  {
   "cell_type": "code",
   "execution_count": 1,
   "id": "d263908e",
   "metadata": {},
   "outputs": [],
   "source": [
    "import visuallayer"
   ]
  },
  {
   "cell_type": "code",
   "execution_count": 2,
   "id": "3c75eed9",
   "metadata": {},
   "outputs": [
    {
     "data": {
      "text/plain": [
       "'0.0.1'"
      ]
     },
     "execution_count": 2,
     "metadata": {},
     "output_type": "execute_result"
    }
   ],
   "source": [
    "visuallayer.__version__"
   ]
  },
  {
   "cell_type": "code",
   "execution_count": 3,
   "id": "3e72f62e",
   "metadata": {},
   "outputs": [],
   "source": [
    "from visuallayer.datasets import VLOxfordIIITPet"
   ]
  },
  {
   "cell_type": "code",
   "execution_count": 4,
   "id": "41f021ad",
   "metadata": {},
   "outputs": [
    {
     "data": {
      "text/plain": [
       "{'name': 'Oxford IIIT Pets',\n",
       " 'description': 'The Oxford-IIIT pet dataset comprises 37 categories of pet images, with approximately 200 images per class. The dataset exhibits significant variations in scale, pose, and lighting. Each image is accompanied by a ground truth annotation indicating the breed.'}"
      ]
     },
     "execution_count": 4,
     "metadata": {},
     "output_type": "execute_result"
    }
   ],
   "source": [
    "vl_pets = VLOxfordIIITPet()\n",
    "vl_pets.info"
   ]
  },
  {
   "cell_type": "code",
   "execution_count": 5,
   "id": "6c4f692f",
   "metadata": {},
   "outputs": [
    {
     "name": "stdout",
     "output_type": "stream",
     "text": [
      "Exporting dataset into pytorch\n",
      "Apply default transform\n",
      "Compose(\n",
      "    RandomResizedCrop(size=(224, 224), scale=(0.08, 1.0), ratio=(0.75, 1.3333), interpolation=bilinear, antialias=warn)\n",
      "    RandomHorizontalFlip(p=0.5)\n",
      "    ToTensor()\n",
      "    Normalize(mean=[0.485, 0.456, 0.406], std=[0.229, 0.224, 0.225])\n",
      ")\n",
      "Downloading CSV file\n",
      "Excluded Abyssinian_114 from the trainval set\n",
      "Excluded beagle_142 from the trainval set\n",
      "Excluded Bengal_105 from the trainval set\n",
      "Excluded Bengal_131 from the trainval set\n",
      "Excluded Bombay_132 from the trainval set\n",
      "Excluded Bombay_139 from the trainval set\n",
      "Excluded Abyssinian_177 from the trainval set\n",
      "Excluded Abyssinian_18 from the trainval set\n",
      "Excluded Bombay_150 from the trainval set\n",
      "Excluded Bombay_157 from the trainval set\n",
      "Excluded Bombay_177 from the trainval set\n",
      "Excluded Bombay_191 from the trainval set\n",
      "Excluded Bombay_19 from the trainval set\n",
      "Excluded german_shorthaired_173 from the trainval set\n",
      "Excluded keeshond_162 from the trainval set\n",
      "Excluded keeshond_167 from the trainval set\n",
      "Excluded keeshond_170 from the trainval set\n",
      "Excluded Ragdoll_161 from the trainval set\n",
      "Excluded saint_bernard_158 from the trainval set\n",
      "Excluded yorkshire_terrier_180 from the trainval set\n",
      "Excluded yorkshire_terrier_182 from the trainval set\n"
     ]
    }
   ],
   "source": [
    "train_dataset = vl_pets.export(\"pytorch\", split=\"trainval\")"
   ]
  },
  {
   "cell_type": "code",
   "execution_count": 6,
   "id": "b1c044be",
   "metadata": {},
   "outputs": [
    {
     "name": "stdout",
     "output_type": "stream",
     "text": [
      "Exporting dataset into pytorch\n",
      "Downloading CSV file\n",
      "Excluded Abyssinian_114 from the test set\n",
      "Excluded beagle_142 from the test set\n",
      "Excluded Bengal_105 from the test set\n",
      "Excluded Bengal_131 from the test set\n",
      "Excluded Bombay_132 from the test set\n",
      "Excluded Bombay_139 from the test set\n",
      "Excluded Abyssinian_177 from the test set\n",
      "Excluded Abyssinian_18 from the test set\n",
      "Excluded Bombay_150 from the test set\n",
      "Excluded Bombay_157 from the test set\n",
      "Excluded Bombay_177 from the test set\n",
      "Excluded Bombay_191 from the test set\n",
      "Excluded Bombay_19 from the test set\n",
      "Excluded german_shorthaired_173 from the test set\n",
      "Excluded keeshond_162 from the test set\n",
      "Excluded keeshond_167 from the test set\n",
      "Excluded keeshond_170 from the test set\n",
      "Excluded Ragdoll_161 from the test set\n",
      "Excluded saint_bernard_158 from the test set\n",
      "Excluded yorkshire_terrier_180 from the test set\n",
      "Excluded yorkshire_terrier_182 from the test set\n"
     ]
    }
   ],
   "source": [
    "val_dataset = vl_pets.export(\"pytorch\", split=\"test\")"
   ]
  },
  {
   "cell_type": "code",
   "execution_count": 8,
   "id": "20383813",
   "metadata": {},
   "outputs": [
    {
     "name": "stdout",
     "output_type": "stream",
     "text": [
      "Loading dataset here\n"
     ]
    }
   ],
   "source": [
    "import visuallayer as vl\n",
    "\n",
    "pets = vl.datasets.load(\"pets\")"
   ]
  },
  {
   "cell_type": "code",
   "execution_count": 9,
   "id": "e95aebc8",
   "metadata": {},
   "outputs": [
    {
     "data": {
      "text/plain": [
       "{'name': 'Oxford IIIT Pets',\n",
       " 'description': 'The Oxford-IIIT pet dataset comprises 37 categories of pet images, with approximately 200 images per class. The dataset exhibits significant variations in scale, pose, and lighting. Each image is accompanied by a ground truth annotation indicating the breed.'}"
      ]
     },
     "execution_count": 9,
     "metadata": {},
     "output_type": "execute_result"
    }
   ],
   "source": [
    "pets.info"
   ]
  },
  {
   "cell_type": "code",
   "execution_count": 10,
   "id": "69ee124a",
   "metadata": {},
   "outputs": [
    {
     "name": "stdout",
     "output_type": "stream",
     "text": [
      "Exporting dataset into pytorch\n",
      "Downloading CSV file\n",
      "Excluded Abyssinian_114 from the test set\n",
      "Excluded beagle_142 from the test set\n",
      "Excluded Bengal_105 from the test set\n",
      "Excluded Bengal_131 from the test set\n",
      "Excluded Bombay_132 from the test set\n",
      "Excluded Bombay_139 from the test set\n",
      "Excluded Abyssinian_177 from the test set\n",
      "Excluded Abyssinian_18 from the test set\n",
      "Excluded Bombay_150 from the test set\n",
      "Excluded Bombay_157 from the test set\n",
      "Excluded Bombay_177 from the test set\n",
      "Excluded Bombay_191 from the test set\n",
      "Excluded Bombay_19 from the test set\n",
      "Excluded german_shorthaired_173 from the test set\n",
      "Excluded keeshond_162 from the test set\n",
      "Excluded keeshond_167 from the test set\n",
      "Excluded keeshond_170 from the test set\n",
      "Excluded Ragdoll_161 from the test set\n",
      "Excluded saint_bernard_158 from the test set\n",
      "Excluded yorkshire_terrier_180 from the test set\n",
      "Excluded yorkshire_terrier_182 from the test set\n"
     ]
    },
    {
     "data": {
      "text/plain": [
       "Dataset CleanTorchvisionOxfordIIITPet\n",
       "    Number of datapoints: 3659\n",
       "    Root location: ./\n",
       "    StandardTransform\n",
       "Transform: Compose(\n",
       "               Resize(size=256, interpolation=bilinear, max_size=None, antialias=warn)\n",
       "               CenterCrop(size=(224, 224))\n",
       "               ToTensor()\n",
       "               Normalize(mean=[0.485, 0.456, 0.406], std=[0.229, 0.224, 0.225])\n",
       "           )"
      ]
     },
     "execution_count": 10,
     "metadata": {},
     "output_type": "execute_result"
    }
   ],
   "source": [
    "pets.export(\"pytorch\", split=\"test\")"
   ]
  },
  {
   "cell_type": "code",
   "execution_count": null,
   "id": "d997a2c7",
   "metadata": {},
   "outputs": [],
   "source": []
  }
 ],
 "metadata": {
  "kernelspec": {
   "display_name": "Python 3 (ipykernel)",
   "language": "python",
   "name": "python3"
  },
  "language_info": {
   "codemirror_mode": {
    "name": "ipython",
    "version": 3
   },
   "file_extension": ".py",
   "mimetype": "text/x-python",
   "name": "python",
   "nbconvert_exporter": "python",
   "pygments_lexer": "ipython3",
   "version": "3.10.11"
  }
 },
 "nbformat": 4,
 "nbformat_minor": 5
}
