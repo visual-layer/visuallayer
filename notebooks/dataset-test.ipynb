{
 "cells": [
  {
   "cell_type": "code",
   "execution_count": 1,
   "id": "d263908e",
   "metadata": {},
   "outputs": [
    {
     "data": {
      "text/plain": [
       "'0.0.16'"
      ]
     },
     "execution_count": 1,
     "metadata": {},
     "output_type": "execute_result"
    }
   ],
   "source": [
    "import visuallayer as vl\n",
    "\n",
    "vl.__version__"
   ]
  },
  {
   "cell_type": "markdown",
   "id": "13099cb6",
   "metadata": {},
   "source": [
    "## List Academic Datasets"
   ]
  },
  {
   "cell_type": "code",
   "execution_count": 2,
   "id": "fdddecd0",
   "metadata": {},
   "outputs": [
    {
     "name": "stdout",
     "output_type": "stream",
     "text": [
      "Listing all datasets in the zoo.\n"
     ]
    },
    {
     "data": {
      "text/plain": [
       "['vl-oxford-iiit-pets',\n",
       " 'vl-imagenet-21k',\n",
       " 'vl-imagenet-1k',\n",
       " 'vl-food101',\n",
       " 'oxford-iiit-pets',\n",
       " 'imagenet-21k',\n",
       " 'imagenet-1k',\n",
       " 'food101']"
      ]
     },
     "execution_count": 2,
     "metadata": {},
     "output_type": "execute_result"
    }
   ],
   "source": [
    "vl.datasets.zoo.list_datasets()"
   ]
  },
  {
   "cell_type": "code",
   "execution_count": null,
   "id": "20cf3bf7",
   "metadata": {},
   "outputs": [],
   "source": [
    "import visuallayer as vl\n",
    "my_pets = vl.datasets.zoo.load('vl-oxford-iiit-pets')\n",
    "test_dataset = my_pets.export(output_format=\"pytorch\", split=\"trainval\")"
   ]
  },
  {
   "cell_type": "markdown",
   "id": "ae0da249",
   "metadata": {},
   "source": [
    "## Loading a Dataset"
   ]
  },
  {
   "cell_type": "markdown",
   "id": "0e30346f",
   "metadata": {},
   "source": [
    "### Option 1 - Loading from the zoo"
   ]
  },
  {
   "cell_type": "code",
   "execution_count": null,
   "id": "f2c3853a",
   "metadata": {},
   "outputs": [],
   "source": [
    "my_kitti = vl.datasets.zoo.load('vl-kitti')\n",
    "my_kitti.info"
   ]
  },
  {
   "cell_type": "code",
   "execution_count": null,
   "id": "3d7076d3",
   "metadata": {},
   "outputs": [],
   "source": [
    "my_kitti.report"
   ]
  },
  {
   "cell_type": "code",
   "execution_count": null,
   "id": "778b7cce",
   "metadata": {
    "scrolled": false
   },
   "outputs": [],
   "source": [
    "my_kitti.explore()"
   ]
  },
  {
   "cell_type": "code",
   "execution_count": 3,
   "id": "0e67993c",
   "metadata": {},
   "outputs": [
    {
     "name": "stdout",
     "output_type": "stream",
     "text": [
      "Metadata:\n",
      "--> Name - vl-oxford-iiit-pets\n",
      "--> Description - A modified version of the original Oxford IIIT Pets Dataset removing dataset issues.\n",
      "--> License - Creative Commons Attribution-ShareAlike 4.0 International (CC BY-SA 4.0)\n",
      "--> Homepage URL - https://www.robots.ox.ac.uk/~vgg/data/pets/\n",
      "--> Number of Images - 7349\n",
      "--> Number of Images with Issues - 109\n"
     ]
    }
   ],
   "source": [
    "my_pets = vl.datasets.zoo.load('vl-oxford-iiit-pets')\n",
    "my_pets.info"
   ]
  },
  {
   "cell_type": "code",
   "execution_count": null,
   "id": "608d464c",
   "metadata": {},
   "outputs": [],
   "source": [
    "len(my_pets)"
   ]
  },
  {
   "cell_type": "code",
   "execution_count": null,
   "id": "cfaf33ab",
   "metadata": {},
   "outputs": [],
   "source": [
    "my_food = vl.datasets.zoo.load('vl-food101')\n",
    "my_food.info"
   ]
  },
  {
   "cell_type": "code",
   "execution_count": null,
   "id": "cd61b33c",
   "metadata": {},
   "outputs": [],
   "source": [
    "my_imagenet1k = vl.datasets.zoo.load('vl-imagenet-1k')\n",
    "my_imagenet1k.info"
   ]
  },
  {
   "cell_type": "code",
   "execution_count": null,
   "id": "1c5b4a91",
   "metadata": {},
   "outputs": [],
   "source": [
    "my_imagenet1k.report"
   ]
  },
  {
   "cell_type": "code",
   "execution_count": null,
   "id": "9985fa5b",
   "metadata": {},
   "outputs": [],
   "source": [
    "my_imagenet21k = vl.datasets.zoo.load('vl-imagenet-21k')\n",
    "my_imagenet21k.info"
   ]
  },
  {
   "cell_type": "code",
   "execution_count": null,
   "id": "effe5755",
   "metadata": {},
   "outputs": [],
   "source": [
    "my_imagenet21k.report"
   ]
  },
  {
   "cell_type": "code",
   "execution_count": null,
   "id": "0bf179e3",
   "metadata": {
    "scrolled": false
   },
   "outputs": [],
   "source": [
    "my_pets.explore()"
   ]
  },
  {
   "cell_type": "code",
   "execution_count": null,
   "id": "ba3e46f1",
   "metadata": {},
   "outputs": [],
   "source": [
    "# from IPython.core.display import display, HTML\n",
    "# display(HTML(\"<style>.container { width:100% !important; }</style>\"))"
   ]
  },
  {
   "cell_type": "code",
   "execution_count": null,
   "id": "bce49be9",
   "metadata": {},
   "outputs": [],
   "source": [
    "df = my_pets.explore()"
   ]
  },
  {
   "cell_type": "markdown",
   "id": "23fc4b4f",
   "metadata": {},
   "source": [
    "Load original version from the zoo"
   ]
  },
  {
   "cell_type": "code",
   "execution_count": null,
   "id": "08aa2c77",
   "metadata": {},
   "outputs": [],
   "source": [
    "my_pets_ori = vl.datasets.zoo.load('oxford-iiit-pets')"
   ]
  },
  {
   "cell_type": "code",
   "execution_count": null,
   "id": "a1f2c7c9",
   "metadata": {},
   "outputs": [],
   "source": [
    "my_pets_ori.info"
   ]
  },
  {
   "cell_type": "markdown",
   "id": "74e6c013",
   "metadata": {},
   "source": [
    "### Option 2 - Directly Importing the VL Classes"
   ]
  },
  {
   "cell_type": "code",
   "execution_count": null,
   "id": "83d50716",
   "metadata": {},
   "outputs": [],
   "source": [
    "import visuallayer\n",
    "from visuallayer.datasets.zoo import VLOxfordIIITPet\n",
    "vl_pets = VLOxfordIIITPet()"
   ]
  },
  {
   "cell_type": "code",
   "execution_count": null,
   "id": "8773e23a",
   "metadata": {},
   "outputs": [],
   "source": [
    "vl_pets.info"
   ]
  },
  {
   "cell_type": "code",
   "execution_count": null,
   "id": "f056bf6b",
   "metadata": {},
   "outputs": [],
   "source": [
    "vl_coco = VLCocoDetection()"
   ]
  },
  {
   "cell_type": "code",
   "execution_count": null,
   "id": "66483a0c",
   "metadata": {},
   "outputs": [],
   "source": [
    "test_dataset = vl_pets.export(output_format=\"pytorch\", split=\"test\")"
   ]
  },
  {
   "cell_type": "code",
   "execution_count": null,
   "id": "c1d0d7f4",
   "metadata": {},
   "outputs": [],
   "source": [
    "len(test_dataset)"
   ]
  },
  {
   "cell_type": "code",
   "execution_count": null,
   "id": "b36d87bd",
   "metadata": {},
   "outputs": [],
   "source": [
    "train_dataset = vl_pets.export(output_format=\"pytorch\", split=\"train\")"
   ]
  },
  {
   "cell_type": "code",
   "execution_count": null,
   "id": "ea8a2162",
   "metadata": {},
   "outputs": [],
   "source": [
    "len(train_dataset)"
   ]
  },
  {
   "cell_type": "code",
   "execution_count": null,
   "id": "187a0f2b",
   "metadata": {},
   "outputs": [],
   "source": [
    "vl_pets.report"
   ]
  },
  {
   "cell_type": "code",
   "execution_count": null,
   "id": "5c9c5365",
   "metadata": {},
   "outputs": [],
   "source": [
    "test_dataset = vl_pets.export(output_format=\"pytorch\", variation='original', split=\"test\")"
   ]
  },
  {
   "cell_type": "markdown",
   "id": "3432f590",
   "metadata": {},
   "source": [
    "## Exporting Dataset to PyTorch"
   ]
  },
  {
   "cell_type": "code",
   "execution_count": 4,
   "id": "5d9d437e",
   "metadata": {},
   "outputs": [
    {
     "name": "stdout",
     "output_type": "stream",
     "text": [
      "Exporting VL dataset into pytorch dataset.\n",
      "Using provided CSV file: https://sharedvisuallayer.s3.us-east-2.amazonaws.com/visual-layer-sdk/oxford-iiit-pet_images_issue_file_list.csv\n",
      "Excluded Abyssinian_4 from the test set\n",
      "Excluded american_pit_bull_terrier_72 from the test set\n",
      "Excluded Birman_25 from the test set\n",
      "Excluded Bombay_57 from the test set\n",
      "Excluded Bombay_82 from the test set\n",
      "Excluded Bombay_97 from the test set\n",
      "Excluded British_Shorthair_271 from the test set\n",
      "Excluded British_Shorthair_278 from the test set\n",
      "Excluded Egyptian_Mau_219 from the test set\n",
      "Excluded Egyptian_Mau_6 from the test set\n",
      "Excluded german_shorthaired_19 from the test set\n",
      "Excluded german_shorthaired_20 from the test set\n",
      "Excluded german_shorthaired_3 from the test set\n",
      "Excluded great_pyrenees_89 from the test set\n",
      "Excluded great_pyrenees_99 from the test set\n",
      "Excluded japanese_chin_200 from the test set\n",
      "Excluded japanese_chin_20 from the test set\n",
      "Excluded japanese_chin_78 from the test set\n",
      "Excluded japanese_chin_79 from the test set\n",
      "Excluded japanese_chin_81 from the test set\n",
      "Excluded japanese_chin_85 from the test set\n",
      "Excluded japanese_chin_88 from the test set\n",
      "Excluded keeshond_27 from the test set\n",
      "Excluded keeshond_47 from the test set\n",
      "Excluded keeshond_97 from the test set\n",
      "Excluded keeshond_99 from the test set\n",
      "Excluded leonberger_1 from the test set\n",
      "Excluded leonberger_2 from the test set\n",
      "Excluded miniature_pinscher_76 from the test set\n",
      "Excluded newfoundland_2 from the test set\n",
      "Excluded Ragdoll_34 from the test set\n",
      "Excluded scottish_terrier_94 from the test set\n",
      "Excluded staffordshire_bull_terrier_51 from the test set\n"
     ]
    }
   ],
   "source": [
    "test_dataset = my_pets.export(output_format=\"pytorch\", split=\"test\")"
   ]
  },
  {
   "cell_type": "code",
   "execution_count": null,
   "id": "090109e2",
   "metadata": {},
   "outputs": [],
   "source": [
    "len(test_dataset)"
   ]
  },
  {
   "cell_type": "code",
   "execution_count": 5,
   "id": "498cf8d3",
   "metadata": {},
   "outputs": [
    {
     "name": "stdout",
     "output_type": "stream",
     "text": [
      "Exporting VL dataset into csv dataset.\n",
      "Using provided CSV file: https://sharedvisuallayer.s3.us-east-2.amazonaws.com/visual-layer-sdk/oxford-iiit-pet_images_issue_file_list.csv\n",
      "Excluded Abyssinian_4 from the test set\n",
      "Excluded american_pit_bull_terrier_72 from the test set\n",
      "Excluded Birman_25 from the test set\n",
      "Excluded Bombay_57 from the test set\n",
      "Excluded Bombay_82 from the test set\n",
      "Excluded Bombay_97 from the test set\n",
      "Excluded British_Shorthair_271 from the test set\n",
      "Excluded British_Shorthair_278 from the test set\n",
      "Excluded Egyptian_Mau_219 from the test set\n",
      "Excluded Egyptian_Mau_6 from the test set\n",
      "Excluded german_shorthaired_19 from the test set\n",
      "Excluded german_shorthaired_20 from the test set\n",
      "Excluded german_shorthaired_3 from the test set\n",
      "Excluded great_pyrenees_89 from the test set\n",
      "Excluded great_pyrenees_99 from the test set\n",
      "Excluded japanese_chin_200 from the test set\n",
      "Excluded japanese_chin_20 from the test set\n",
      "Excluded japanese_chin_78 from the test set\n",
      "Excluded japanese_chin_79 from the test set\n",
      "Excluded japanese_chin_81 from the test set\n",
      "Excluded japanese_chin_85 from the test set\n",
      "Excluded japanese_chin_88 from the test set\n",
      "Excluded keeshond_27 from the test set\n",
      "Excluded keeshond_47 from the test set\n",
      "Excluded keeshond_97 from the test set\n",
      "Excluded keeshond_99 from the test set\n",
      "Excluded leonberger_1 from the test set\n",
      "Excluded leonberger_2 from the test set\n",
      "Excluded miniature_pinscher_76 from the test set\n",
      "Excluded newfoundland_2 from the test set\n",
      "Excluded Ragdoll_34 from the test set\n",
      "Excluded scottish_terrier_94 from the test set\n",
      "Excluded staffordshire_bull_terrier_51 from the test set\n"
     ]
    }
   ],
   "source": [
    "test_dataframe = my_pets.export(output_format=\"csv\", split=\"test\")"
   ]
  },
  {
   "cell_type": "code",
   "execution_count": 6,
   "id": "43d2dfd7",
   "metadata": {},
   "outputs": [
    {
     "data": {
      "text/html": [
       "<div>\n",
       "<style scoped>\n",
       "    .dataframe tbody tr th:only-of-type {\n",
       "        vertical-align: middle;\n",
       "    }\n",
       "\n",
       "    .dataframe tbody tr th {\n",
       "        vertical-align: top;\n",
       "    }\n",
       "\n",
       "    .dataframe thead th {\n",
       "        text-align: right;\n",
       "    }\n",
       "</style>\n",
       "<table border=\"1\" class=\"dataframe\">\n",
       "  <thead>\n",
       "    <tr style=\"text-align: right;\">\n",
       "      <th></th>\n",
       "      <th>Image</th>\n",
       "      <th>Label</th>\n",
       "    </tr>\n",
       "  </thead>\n",
       "  <tbody>\n",
       "    <tr>\n",
       "      <th>0</th>\n",
       "      <td>oxford-iiit-pet/images/Abyssinian_201.jpg</td>\n",
       "      <td>0</td>\n",
       "    </tr>\n",
       "    <tr>\n",
       "      <th>1</th>\n",
       "      <td>oxford-iiit-pet/images/Abyssinian_202.jpg</td>\n",
       "      <td>0</td>\n",
       "    </tr>\n",
       "    <tr>\n",
       "      <th>2</th>\n",
       "      <td>oxford-iiit-pet/images/Abyssinian_204.jpg</td>\n",
       "      <td>0</td>\n",
       "    </tr>\n",
       "    <tr>\n",
       "      <th>3</th>\n",
       "      <td>oxford-iiit-pet/images/Abyssinian_205.jpg</td>\n",
       "      <td>0</td>\n",
       "    </tr>\n",
       "    <tr>\n",
       "      <th>4</th>\n",
       "      <td>oxford-iiit-pet/images/Abyssinian_206.jpg</td>\n",
       "      <td>0</td>\n",
       "    </tr>\n",
       "    <tr>\n",
       "      <th>...</th>\n",
       "      <td>...</td>\n",
       "      <td>...</td>\n",
       "    </tr>\n",
       "    <tr>\n",
       "      <th>3631</th>\n",
       "      <td>oxford-iiit-pet/images/yorkshire_terrier_96.jpg</td>\n",
       "      <td>36</td>\n",
       "    </tr>\n",
       "    <tr>\n",
       "      <th>3632</th>\n",
       "      <td>oxford-iiit-pet/images/yorkshire_terrier_97.jpg</td>\n",
       "      <td>36</td>\n",
       "    </tr>\n",
       "    <tr>\n",
       "      <th>3633</th>\n",
       "      <td>oxford-iiit-pet/images/yorkshire_terrier_98.jpg</td>\n",
       "      <td>36</td>\n",
       "    </tr>\n",
       "    <tr>\n",
       "      <th>3634</th>\n",
       "      <td>oxford-iiit-pet/images/yorkshire_terrier_99.jpg</td>\n",
       "      <td>36</td>\n",
       "    </tr>\n",
       "    <tr>\n",
       "      <th>3635</th>\n",
       "      <td>oxford-iiit-pet/images/yorkshire_terrier_9.jpg</td>\n",
       "      <td>36</td>\n",
       "    </tr>\n",
       "  </tbody>\n",
       "</table>\n",
       "<p>3636 rows × 2 columns</p>\n",
       "</div>"
      ],
      "text/plain": [
       "                                                Image  Label\n",
       "0           oxford-iiit-pet/images/Abyssinian_201.jpg      0\n",
       "1           oxford-iiit-pet/images/Abyssinian_202.jpg      0\n",
       "2           oxford-iiit-pet/images/Abyssinian_204.jpg      0\n",
       "3           oxford-iiit-pet/images/Abyssinian_205.jpg      0\n",
       "4           oxford-iiit-pet/images/Abyssinian_206.jpg      0\n",
       "...                                               ...    ...\n",
       "3631  oxford-iiit-pet/images/yorkshire_terrier_96.jpg     36\n",
       "3632  oxford-iiit-pet/images/yorkshire_terrier_97.jpg     36\n",
       "3633  oxford-iiit-pet/images/yorkshire_terrier_98.jpg     36\n",
       "3634  oxford-iiit-pet/images/yorkshire_terrier_99.jpg     36\n",
       "3635   oxford-iiit-pet/images/yorkshire_terrier_9.jpg     36\n",
       "\n",
       "[3636 rows x 2 columns]"
      ]
     },
     "execution_count": 6,
     "metadata": {},
     "output_type": "execute_result"
    }
   ],
   "source": [
    "test_dataframe"
   ]
  },
  {
   "cell_type": "markdown",
   "id": "ba1cb0d5",
   "metadata": {},
   "source": [
    "## Exporting Issues"
   ]
  },
  {
   "cell_type": "code",
   "execution_count": null,
   "id": "47e11256",
   "metadata": {},
   "outputs": [],
   "source": [
    "vl_pets.export_issues(\"./issues-pets.csv\")"
   ]
  },
  {
   "cell_type": "code",
   "execution_count": null,
   "id": "8d0c757e",
   "metadata": {},
   "outputs": [],
   "source": [
    "# Pending\n",
    "# test_dataset = my_pets.export(output_format=\"csv\", split=\"test\")"
   ]
  }
 ],
 "metadata": {
  "kernelspec": {
   "display_name": "Python 3 (ipykernel)",
   "language": "python",
   "name": "python3"
  },
  "language_info": {
   "codemirror_mode": {
    "name": "ipython",
    "version": 3
   },
   "file_extension": ".py",
   "mimetype": "text/x-python",
   "name": "python",
   "nbconvert_exporter": "python",
   "pygments_lexer": "ipython3",
   "version": "3.10.11"
  }
 },
 "nbformat": 4,
 "nbformat_minor": 5
}
